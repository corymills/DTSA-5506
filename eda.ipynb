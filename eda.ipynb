{
 "cells": [
  {
   "cell_type": "markdown",
   "metadata": {},
   "source": [
    "Imports"
   ]
  },
  {
   "cell_type": "code",
   "execution_count": 1,
   "metadata": {},
   "outputs": [],
   "source": [
    "import pandas as pd\n",
    "from bs4 import BeautifulSoup\n",
    "import re\n",
    "import plotly.graph_objects as go\n",
    "import numpy as np"
   ]
  },
  {
   "cell_type": "markdown",
   "metadata": {},
   "source": [
    "Read Codebook"
   ]
  },
  {
   "cell_type": "code",
   "execution_count": 2,
   "metadata": {},
   "outputs": [],
   "source": [
    "with open(\"USCODE22_LLCP_102523.HTML\", \"r\", encoding='latin1') as file:\n",
    "    html_content = file.read()\n",
    "\n",
    "soup = BeautifulSoup(html_content, \"html.parser\")\n",
    "\n",
    "tables = soup.find_all(\"table\", class_=\"table\", attrs={\"summary\": \"Procedure Report: Report\"})\n",
    "\n",
    "data_element_details = {}\n",
    "for table in tables:\n",
    "    data_element_detail = {}\n",
    "    values = {}\n",
    "    for i, row in enumerate(table.find_all(\"tr\")):\n",
    "        cells = [cell.get_text(strip=True, separator='\\n').replace('\\xa0', ' ') for cell in row.find_all([\"td\"])]\n",
    "        if i == 0:\n",
    "            matches = re.findall(r'(.*?):\\s*([^\\n]*)', cells[0])\n",
    "            for match in matches:\n",
    "                data_element_detail[match[0]] = match[1]\n",
    "            if \"SAS Variable Name\" not in data_element_detail:\n",
    "                break\n",
    "        if i >= 2:\n",
    "            values[cells[0]] = {\"Value Label\": cells[1], \"Frequency\": cells[2], \"Percentage\": cells[3], \"Weighted Percentage\": cells[4]}\n",
    "    if \"SAS Variable Name\" in data_element_detail:\n",
    "        data_element_detail['Valid Values'] = values\n",
    "        data_element_details[data_element_detail[\"SAS Variable Name\"]] = data_element_detail"
   ]
  },
  {
   "cell_type": "markdown",
   "metadata": {},
   "source": [
    "Output as csv for manual labelling"
   ]
  },
  {
   "cell_type": "code",
   "execution_count": 3,
   "metadata": {},
   "outputs": [],
   "source": [
    "pd.DataFrame.from_dict(data_element_details, orient=\"index\").to_csv(\"fields.csv\")"
   ]
  },
  {
   "cell_type": "markdown",
   "metadata": {},
   "source": [
    "Read fixed width file data positions from html"
   ]
  },
  {
   "cell_type": "code",
   "execution_count": 4,
   "metadata": {},
   "outputs": [],
   "source": [
    "url = 'CDC - BRFSS 2022 Combined Landline and Telephone Multiple Data.html'\n",
    "tables = pd.read_html(url)\n",
    "df_cols = tables[0]\n",
    "column_names = df_cols['Variable Name']\n",
    "start_positions = df_cols['Starting Column']\n",
    "widths = df_cols['Field Length']\n",
    "colspecs = list(zip(start_positions - 1, start_positions - 1 + widths))"
   ]
  },
  {
   "cell_type": "markdown",
   "metadata": {},
   "source": [
    "Load file using fixed width positions extracted above"
   ]
  },
  {
   "cell_type": "code",
   "execution_count": 5,
   "metadata": {},
   "outputs": [],
   "source": [
    "df = pd.read_fwf('LLCP2022.ASC', colspecs=colspecs, header=None, names=column_names)\n",
    "num_cols = len(df.columns)\n",
    "df['non_blank_count'] = df.isnull().sum(axis=1)\n",
    "df['non_blank_perc'] = df['non_blank_count'] / (num_cols - 9)"
   ]
  },
  {
   "cell_type": "code",
   "execution_count": 6,
   "metadata": {},
   "outputs": [
    {
     "data": {
      "text/html": [
       "<div>\n",
       "<style scoped>\n",
       "    .dataframe tbody tr th:only-of-type {\n",
       "        vertical-align: middle;\n",
       "    }\n",
       "\n",
       "    .dataframe tbody tr th {\n",
       "        vertical-align: top;\n",
       "    }\n",
       "\n",
       "    .dataframe thead th {\n",
       "        text-align: right;\n",
       "    }\n",
       "</style>\n",
       "<table border=\"1\" class=\"dataframe\">\n",
       "  <thead>\n",
       "    <tr style=\"text-align: right;\">\n",
       "      <th></th>\n",
       "      <th>_STATE</th>\n",
       "      <th>FMONTH</th>\n",
       "      <th>IDATE</th>\n",
       "      <th>IMONTH</th>\n",
       "      <th>IDAY</th>\n",
       "      <th>IYEAR</th>\n",
       "      <th>DISPCODE</th>\n",
       "      <th>SEQNO</th>\n",
       "      <th>_PSU</th>\n",
       "      <th>CTELENM1</th>\n",
       "      <th>...</th>\n",
       "      <th>DRNKANY6</th>\n",
       "      <th>DROCDY4_</th>\n",
       "      <th>_RFBING6</th>\n",
       "      <th>_DRNKWK2</th>\n",
       "      <th>_RFDRHV8</th>\n",
       "      <th>_FLSHOT7</th>\n",
       "      <th>_PNEUMO3</th>\n",
       "      <th>_AIDTST4</th>\n",
       "      <th>non_blank_count</th>\n",
       "      <th>non_blank_perc</th>\n",
       "    </tr>\n",
       "  </thead>\n",
       "  <tbody>\n",
       "    <tr>\n",
       "      <th>0</th>\n",
       "      <td>1</td>\n",
       "      <td>1</td>\n",
       "      <td>2032022</td>\n",
       "      <td>2</td>\n",
       "      <td>3</td>\n",
       "      <td>2022</td>\n",
       "      <td>1100</td>\n",
       "      <td>2022000001</td>\n",
       "      <td>2022000001</td>\n",
       "      <td>1.0</td>\n",
       "      <td>...</td>\n",
       "      <td>2</td>\n",
       "      <td>0.0</td>\n",
       "      <td>1</td>\n",
       "      <td>0</td>\n",
       "      <td>1</td>\n",
       "      <td>1.0</td>\n",
       "      <td>2.0</td>\n",
       "      <td>2.0</td>\n",
       "      <td>177</td>\n",
       "      <td>0.558360</td>\n",
       "    </tr>\n",
       "    <tr>\n",
       "      <th>1</th>\n",
       "      <td>1</td>\n",
       "      <td>1</td>\n",
       "      <td>2042022</td>\n",
       "      <td>2</td>\n",
       "      <td>4</td>\n",
       "      <td>2022</td>\n",
       "      <td>1100</td>\n",
       "      <td>2022000002</td>\n",
       "      <td>2022000002</td>\n",
       "      <td>1.0</td>\n",
       "      <td>...</td>\n",
       "      <td>2</td>\n",
       "      <td>0.0</td>\n",
       "      <td>1</td>\n",
       "      <td>0</td>\n",
       "      <td>1</td>\n",
       "      <td>2.0</td>\n",
       "      <td>2.0</td>\n",
       "      <td>2.0</td>\n",
       "      <td>175</td>\n",
       "      <td>0.552050</td>\n",
       "    </tr>\n",
       "    <tr>\n",
       "      <th>2</th>\n",
       "      <td>1</td>\n",
       "      <td>1</td>\n",
       "      <td>2022022</td>\n",
       "      <td>2</td>\n",
       "      <td>2</td>\n",
       "      <td>2022</td>\n",
       "      <td>1100</td>\n",
       "      <td>2022000003</td>\n",
       "      <td>2022000003</td>\n",
       "      <td>1.0</td>\n",
       "      <td>...</td>\n",
       "      <td>2</td>\n",
       "      <td>0.0</td>\n",
       "      <td>1</td>\n",
       "      <td>0</td>\n",
       "      <td>1</td>\n",
       "      <td>NaN</td>\n",
       "      <td>NaN</td>\n",
       "      <td>2.0</td>\n",
       "      <td>171</td>\n",
       "      <td>0.539432</td>\n",
       "    </tr>\n",
       "    <tr>\n",
       "      <th>3</th>\n",
       "      <td>1</td>\n",
       "      <td>1</td>\n",
       "      <td>2032022</td>\n",
       "      <td>2</td>\n",
       "      <td>3</td>\n",
       "      <td>2022</td>\n",
       "      <td>1100</td>\n",
       "      <td>2022000004</td>\n",
       "      <td>2022000004</td>\n",
       "      <td>1.0</td>\n",
       "      <td>...</td>\n",
       "      <td>2</td>\n",
       "      <td>0.0</td>\n",
       "      <td>1</td>\n",
       "      <td>0</td>\n",
       "      <td>1</td>\n",
       "      <td>9.0</td>\n",
       "      <td>9.0</td>\n",
       "      <td>2.0</td>\n",
       "      <td>162</td>\n",
       "      <td>0.511041</td>\n",
       "    </tr>\n",
       "    <tr>\n",
       "      <th>4</th>\n",
       "      <td>1</td>\n",
       "      <td>1</td>\n",
       "      <td>2022022</td>\n",
       "      <td>2</td>\n",
       "      <td>2</td>\n",
       "      <td>2022</td>\n",
       "      <td>1100</td>\n",
       "      <td>2022000005</td>\n",
       "      <td>2022000005</td>\n",
       "      <td>1.0</td>\n",
       "      <td>...</td>\n",
       "      <td>1</td>\n",
       "      <td>10.0</td>\n",
       "      <td>1</td>\n",
       "      <td>140</td>\n",
       "      <td>1</td>\n",
       "      <td>NaN</td>\n",
       "      <td>NaN</td>\n",
       "      <td>2.0</td>\n",
       "      <td>176</td>\n",
       "      <td>0.555205</td>\n",
       "    </tr>\n",
       "    <tr>\n",
       "      <th>...</th>\n",
       "      <td>...</td>\n",
       "      <td>...</td>\n",
       "      <td>...</td>\n",
       "      <td>...</td>\n",
       "      <td>...</td>\n",
       "      <td>...</td>\n",
       "      <td>...</td>\n",
       "      <td>...</td>\n",
       "      <td>...</td>\n",
       "      <td>...</td>\n",
       "      <td>...</td>\n",
       "      <td>...</td>\n",
       "      <td>...</td>\n",
       "      <td>...</td>\n",
       "      <td>...</td>\n",
       "      <td>...</td>\n",
       "      <td>...</td>\n",
       "      <td>...</td>\n",
       "      <td>...</td>\n",
       "      <td>...</td>\n",
       "      <td>...</td>\n",
       "    </tr>\n",
       "    <tr>\n",
       "      <th>445127</th>\n",
       "      <td>78</td>\n",
       "      <td>11</td>\n",
       "      <td>12192022</td>\n",
       "      <td>12</td>\n",
       "      <td>19</td>\n",
       "      <td>2022</td>\n",
       "      <td>1100</td>\n",
       "      <td>2022001527</td>\n",
       "      <td>2022001527</td>\n",
       "      <td>NaN</td>\n",
       "      <td>...</td>\n",
       "      <td>7</td>\n",
       "      <td>900.0</td>\n",
       "      <td>9</td>\n",
       "      <td>99900</td>\n",
       "      <td>9</td>\n",
       "      <td>NaN</td>\n",
       "      <td>NaN</td>\n",
       "      <td>1.0</td>\n",
       "      <td>177</td>\n",
       "      <td>0.558360</td>\n",
       "    </tr>\n",
       "    <tr>\n",
       "      <th>445128</th>\n",
       "      <td>78</td>\n",
       "      <td>11</td>\n",
       "      <td>12212022</td>\n",
       "      <td>12</td>\n",
       "      <td>21</td>\n",
       "      <td>2022</td>\n",
       "      <td>1100</td>\n",
       "      <td>2022001528</td>\n",
       "      <td>2022001528</td>\n",
       "      <td>NaN</td>\n",
       "      <td>...</td>\n",
       "      <td>2</td>\n",
       "      <td>0.0</td>\n",
       "      <td>1</td>\n",
       "      <td>0</td>\n",
       "      <td>1</td>\n",
       "      <td>NaN</td>\n",
       "      <td>NaN</td>\n",
       "      <td>1.0</td>\n",
       "      <td>160</td>\n",
       "      <td>0.504732</td>\n",
       "    </tr>\n",
       "    <tr>\n",
       "      <th>445129</th>\n",
       "      <td>78</td>\n",
       "      <td>11</td>\n",
       "      <td>11292022</td>\n",
       "      <td>11</td>\n",
       "      <td>29</td>\n",
       "      <td>2022</td>\n",
       "      <td>1100</td>\n",
       "      <td>2022001529</td>\n",
       "      <td>2022001529</td>\n",
       "      <td>NaN</td>\n",
       "      <td>...</td>\n",
       "      <td>7</td>\n",
       "      <td>900.0</td>\n",
       "      <td>9</td>\n",
       "      <td>99900</td>\n",
       "      <td>9</td>\n",
       "      <td>2.0</td>\n",
       "      <td>2.0</td>\n",
       "      <td>2.0</td>\n",
       "      <td>169</td>\n",
       "      <td>0.533123</td>\n",
       "    </tr>\n",
       "    <tr>\n",
       "      <th>445130</th>\n",
       "      <td>78</td>\n",
       "      <td>11</td>\n",
       "      <td>12082022</td>\n",
       "      <td>12</td>\n",
       "      <td>8</td>\n",
       "      <td>2022</td>\n",
       "      <td>1100</td>\n",
       "      <td>2022001530</td>\n",
       "      <td>2022001530</td>\n",
       "      <td>NaN</td>\n",
       "      <td>...</td>\n",
       "      <td>2</td>\n",
       "      <td>0.0</td>\n",
       "      <td>1</td>\n",
       "      <td>0</td>\n",
       "      <td>1</td>\n",
       "      <td>1.0</td>\n",
       "      <td>1.0</td>\n",
       "      <td>1.0</td>\n",
       "      <td>165</td>\n",
       "      <td>0.520505</td>\n",
       "    </tr>\n",
       "    <tr>\n",
       "      <th>445131</th>\n",
       "      <td>78</td>\n",
       "      <td>11</td>\n",
       "      <td>12142022</td>\n",
       "      <td>12</td>\n",
       "      <td>14</td>\n",
       "      <td>2022</td>\n",
       "      <td>1100</td>\n",
       "      <td>2022001531</td>\n",
       "      <td>2022001531</td>\n",
       "      <td>NaN</td>\n",
       "      <td>...</td>\n",
       "      <td>1</td>\n",
       "      <td>50.0</td>\n",
       "      <td>2</td>\n",
       "      <td>99900</td>\n",
       "      <td>9</td>\n",
       "      <td>NaN</td>\n",
       "      <td>NaN</td>\n",
       "      <td>2.0</td>\n",
       "      <td>173</td>\n",
       "      <td>0.545741</td>\n",
       "    </tr>\n",
       "  </tbody>\n",
       "</table>\n",
       "<p>445132 rows × 328 columns</p>\n",
       "</div>"
      ],
      "text/plain": [
       "        _STATE  FMONTH     IDATE  IMONTH  IDAY  IYEAR  DISPCODE       SEQNO  \\\n",
       "0            1       1   2032022       2     3   2022      1100  2022000001   \n",
       "1            1       1   2042022       2     4   2022      1100  2022000002   \n",
       "2            1       1   2022022       2     2   2022      1100  2022000003   \n",
       "3            1       1   2032022       2     3   2022      1100  2022000004   \n",
       "4            1       1   2022022       2     2   2022      1100  2022000005   \n",
       "...        ...     ...       ...     ...   ...    ...       ...         ...   \n",
       "445127      78      11  12192022      12    19   2022      1100  2022001527   \n",
       "445128      78      11  12212022      12    21   2022      1100  2022001528   \n",
       "445129      78      11  11292022      11    29   2022      1100  2022001529   \n",
       "445130      78      11  12082022      12     8   2022      1100  2022001530   \n",
       "445131      78      11  12142022      12    14   2022      1100  2022001531   \n",
       "\n",
       "              _PSU  CTELENM1  ...  DRNKANY6  DROCDY4_  _RFBING6  _DRNKWK2  \\\n",
       "0       2022000001       1.0  ...         2       0.0         1         0   \n",
       "1       2022000002       1.0  ...         2       0.0         1         0   \n",
       "2       2022000003       1.0  ...         2       0.0         1         0   \n",
       "3       2022000004       1.0  ...         2       0.0         1         0   \n",
       "4       2022000005       1.0  ...         1      10.0         1       140   \n",
       "...            ...       ...  ...       ...       ...       ...       ...   \n",
       "445127  2022001527       NaN  ...         7     900.0         9     99900   \n",
       "445128  2022001528       NaN  ...         2       0.0         1         0   \n",
       "445129  2022001529       NaN  ...         7     900.0         9     99900   \n",
       "445130  2022001530       NaN  ...         2       0.0         1         0   \n",
       "445131  2022001531       NaN  ...         1      50.0         2     99900   \n",
       "\n",
       "        _RFDRHV8  _FLSHOT7  _PNEUMO3  _AIDTST4  non_blank_count  \\\n",
       "0              1       1.0       2.0       2.0              177   \n",
       "1              1       2.0       2.0       2.0              175   \n",
       "2              1       NaN       NaN       2.0              171   \n",
       "3              1       9.0       9.0       2.0              162   \n",
       "4              1       NaN       NaN       2.0              176   \n",
       "...          ...       ...       ...       ...              ...   \n",
       "445127         9       NaN       NaN       1.0              177   \n",
       "445128         1       NaN       NaN       1.0              160   \n",
       "445129         9       2.0       2.0       2.0              169   \n",
       "445130         1       1.0       1.0       1.0              165   \n",
       "445131         9       NaN       NaN       2.0              173   \n",
       "\n",
       "        non_blank_perc  \n",
       "0             0.558360  \n",
       "1             0.552050  \n",
       "2             0.539432  \n",
       "3             0.511041  \n",
       "4             0.555205  \n",
       "...                ...  \n",
       "445127        0.558360  \n",
       "445128        0.504732  \n",
       "445129        0.533123  \n",
       "445130        0.520505  \n",
       "445131        0.545741  \n",
       "\n",
       "[445132 rows x 328 columns]"
      ]
     },
     "execution_count": 6,
     "metadata": {},
     "output_type": "execute_result"
    }
   ],
   "source": [
    "df"
   ]
  },
  {
   "cell_type": "code",
   "execution_count": 7,
   "metadata": {},
   "outputs": [],
   "source": [
    "df = df.fillna(value='BLANK')\n",
    "record_sum = len(df)"
   ]
  },
  {
   "cell_type": "code",
   "execution_count": 8,
   "metadata": {},
   "outputs": [
    {
     "name": "stdout",
     "output_type": "stream",
     "text": [
      "_STATE                  0\n",
      "FMONTH                  0\n",
      "IDATE                   0\n",
      "IMONTH                  0\n",
      "IDAY                    0\n",
      "IYEAR                   0\n",
      "DISPCODE                0\n",
      "SEQNO                   0\n",
      "_PSU                    0\n",
      "CTELENM1           349081\n",
      "PVTRESD1           349082\n",
      "COLGHOUS           445113\n",
      "STATERE1           349082\n",
      "CELPHON1           349080\n",
      "LADULT1            349082\n",
      "COLGSEX1           445111\n",
      "NUMADULT           349100\n",
      "LANDSEX1           401436\n",
      "NUMMEN             394702\n",
      "NUMWOMEN           394699\n",
      "RESPSLCT           392879\n",
      "SAFETIME            96051\n",
      "CTELNUM1            96051\n",
      "CELLFON5            96052\n",
      "CADULT1             96052\n",
      "CELLSEX1            96053\n",
      "PVTRESD3            96058\n",
      "CCLGHOUS           443807\n",
      "CSTATE1             96060\n",
      "LANDLINE            96061\n",
      "HHADULT             96061\n",
      "SEXVAR                  0\n",
      "GENHLTH                 3\n",
      "PHYSHLTH                5\n",
      "MENTHLTH                3\n",
      "POORHLTH           189386\n",
      "PRIMINSR                4\n",
      "PERSDOC3                2\n",
      "MEDCOST1                4\n",
      "CHECKUP1                3\n",
      "EXERANY2                2\n",
      "SLEPTIM1                3\n",
      "LASTDEN4             1363\n",
      "RMVTETH4             1363\n",
      "CVDINFR4                4\n",
      "CVDCRHD4                2\n",
      "CVDSTRK3                2\n",
      "ASTHMA3                 2\n",
      "ASTHNOW            378438\n",
      "CHCSCNC1                2\n",
      "CHCOCNC1                3\n",
      "CHCCOPD3                2\n",
      "ADDEPEV3                7\n",
      "CHCKDNY2                2\n",
      "HAVARTH4                3\n",
      "DIABETE4                3\n",
      "DIABAGE4           383973\n",
      "MARITAL                 8\n",
      "EDUCA                   5\n",
      "RENTHOM1                9\n",
      "NUMHHOL4           349083\n",
      "NUMPHON4           438189\n",
      "CPDEMO1C             2827\n",
      "VETERAN3             4173\n",
      "EMPLOY1              6196\n",
      "CHILDREN             9312\n",
      "INCOME3             12932\n",
      "PREGNANT           366114\n",
      "WEIGHT2             15901\n",
      "HEIGHT3             17055\n",
      "DEAF                18644\n",
      "BLIND               19855\n",
      "DECIDE              20986\n",
      "DIFFWALK            22155\n",
      "DIFFDRES            22879\n",
      "DIFFALON            23942\n",
      "HADMAM             223319\n",
      "HOWLONG            274020\n",
      "CERVSCRN           224318\n",
      "CRVCLCNC           309555\n",
      "CRVCLPAP           309745\n",
      "CRVCLHPV           309960\n",
      "HADHYST2           227453\n",
      "HADSIGM4           152413\n",
      "COLNSIGM           232309\n",
      "COLNTES1           237848\n",
      "SIGMTES1           413769\n",
      "LASTSIG4           441658\n",
      "COLNCNCR           154046\n",
      "VIRCOLO1           383265\n",
      "VCLNTES2           436153\n",
      "SMALSTOL           383456\n",
      "STOLTEST           395758\n",
      "STOOLDN2           383730\n",
      "BLDSTFIT           433738\n",
      "SDNATES1           433770\n",
      "SMOKE100            31777\n",
      "SMOKDAY2           281079\n",
      "USENOW3             32600\n",
      "ECIGNOW2            33579\n",
      "LCSFIRST           283417\n",
      "LCSLAST            324513\n",
      "LCSNUMCG           288992\n",
      "LCSCTSC1            38210\n",
      "LCSSCNCR           279557\n",
      "LCSCTWHN           413627\n",
      "ALCDAY4             40763\n",
      "AVEDRNK3           234769\n",
      "DRNK3GE5           235283\n",
      "MAXDRNKS           235721\n",
      "FLUSHOT7            43593\n",
      "FLSHTMY3           236258\n",
      "PNEUVAC4            44732\n",
      "TETANUS1            45383\n",
      "HIVTST7             46235\n",
      "HIVTSTD3           316269\n",
      "HIVRISK5            48461\n",
      "COVIDPOS            49235\n",
      "COVIDSMP           320933\n",
      "COVIDPRM           418417\n",
      "PDIABTS1           304884\n",
      "PREDIAB2           304910\n",
      "DIABTYPE           432532\n",
      "INSULIN1           432532\n",
      "CHKHEMO3           432532\n",
      "EYEEXAM1           432532\n",
      "DIABEYE1           432532\n",
      "DIABEDU1           432532\n",
      "FEETSORE           432532\n",
      "TOLDCFS            445132\n",
      "HAVECFS            445132\n",
      "WORKCFS            445132\n",
      "IMFVPLA3           436089\n",
      "HPVADVC4           437786\n",
      "HPVADSHT           443460\n",
      "SHINGLE2           430395\n",
      "COVIDVA1           292089\n",
      "COVIDNU1           320385\n",
      "COVIDFS1           321193\n",
      "COVIDSE1           328043\n",
      "COPDCOGH           437863\n",
      "COPDFLEM           437870\n",
      "COPDBRTH           437883\n",
      "COPDBTST           437900\n",
      "COPDSMOK           437917\n",
      "CNCRDIFF           421733\n",
      "CNCRAGE            422567\n",
      "CNCRTYP2           422588\n",
      "CSRVTRT3           427830\n",
      "CSRVDOC1           435325\n",
      "CSRVSUM            435349\n",
      "CSRVRTRN           435361\n",
      "CSRVINST           437882\n",
      "CSRVINSR           435384\n",
      "CSRVDEIN           435392\n",
      "CSRVCLIN           435403\n",
      "CSRVPAIN           428035\n",
      "CSRVCTL2           443591\n",
      "PSATEST1           437952\n",
      "PSATIME1           441186\n",
      "PCPSARS2           441196\n",
      "PSASUGST           440738\n",
      "PCSTALK1           438364\n",
      "CIMEMLOS           380457\n",
      "CDHOUSE            437679\n",
      "CDASSIST           437701\n",
      "CDHELP             443199\n",
      "CDSOCIAL           437717\n",
      "CDDISCUS           437732\n",
      "CAREGIV1           346622\n",
      "CRGVREL4           425498\n",
      "CRGVLNG1           425549\n",
      "CRGVHRS1           425599\n",
      "CRGVPRB3           425660\n",
      "CRGVALZD           427832\n",
      "CRGVPER1           425732\n",
      "CRGVHOU1           425772\n",
      "CRGVEXPT           366598\n",
      "ACEDEPRS           396846\n",
      "ACEDRINK           396901\n",
      "ACEDRUGS           396912\n",
      "ACEPRISN           396938\n",
      "ACEDIVRC           396960\n",
      "ACEPUNCH           397003\n",
      "ACEHURT1           397055\n",
      "ACESWEAR           397103\n",
      "ACETOUCH           397160\n",
      "ACETTHEM           397196\n",
      "ACEHVSEX           397256\n",
      "ACEADSAF           397311\n",
      "ACEADNED           397375\n",
      "LSATISFY           190644\n",
      "EMTSUPRT           190991\n",
      "SDHISOLT           191342\n",
      "SDHEMPLY           191617\n",
      "FOODSTMP           191893\n",
      "SDHFOOD1           192303\n",
      "SDHBILLS           192610\n",
      "SDHUTILS           192853\n",
      "SDHTRNSP           193189\n",
      "SDHSTRE1           193921\n",
      "MARIJAN1           350213\n",
      "MARJSMOK           433622\n",
      "MARJEAT            433628\n",
      "MARJVAPE           433629\n",
      "MARJDAB            433637\n",
      "MARJOTHR           433645\n",
      "USEMRJN4           440126\n",
      "LASTSMK2           397723\n",
      "STOPSMK2           426243\n",
      "MENTCIGS           440138\n",
      "MENTECIG           442968\n",
      "HEATTBCO           430103\n",
      "ASBIALCH           384190\n",
      "ASBIDRNK           384292\n",
      "ASBIBING           384404\n",
      "ASBIADVC           385687\n",
      "ASBIRDUC           398512\n",
      "FIREARM5           405332\n",
      "GUNLOAD            431307\n",
      "LOADULK2           441077\n",
      "RCSGEND1           386144\n",
      "RCSXBRTH           441669\n",
      "RCSRLTN2           386658\n",
      "CASTHDX2           394471\n",
      "CASTHNO2           439804\n",
      "BIRTHSEX           365705\n",
      "SOMALE             321100\n",
      "SOFEMALE           305502\n",
      "TRNSGNDR           181571\n",
      "HADSEX             425256\n",
      "PFPPRVN4           430451\n",
      "TYPCNTR9           433762\n",
      "BRTHCNT4           433791\n",
      "WHEREGET           435358\n",
      "NOBCUSE8           441970\n",
      "BCPREFER           430605\n",
      "RRCLASS3           283394\n",
      "RRCOGNT2           283788\n",
      "RRTREAT            284167\n",
      "RRATWRK2           362095\n",
      "RRHCARE4           284624\n",
      "RRPHYSM2           284942\n",
      "QSTVER                  0\n",
      "QSTLANG                 0\n",
      "_METSTAT             9408\n",
      "_URBSTAT             9408\n",
      "MSCODE             351246\n",
      "_STSTR                  0\n",
      "_STRWT                  0\n",
      "_RAWRAKE                0\n",
      "_WT2RAKE                0\n",
      "_IMPRACE                0\n",
      "_CHISPNC           120823\n",
      "_CRACE2            384286\n",
      "_CPRACE2           385142\n",
      "CAGEG              394956\n",
      "_CLLCPWT           385986\n",
      "_DUALUSE                0\n",
      "_DUALCOR           287103\n",
      "_LLCPWT2                0\n",
      "_LLCPWT                 0\n",
      "_RFHLTH                 0\n",
      "_PHYS14D                0\n",
      "_MENT14D                0\n",
      "_HLTHPLN                0\n",
      "_HCVU652                0\n",
      "_TOTINDA                0\n",
      "_EXTETH3                0\n",
      "_ALTETH3           276713\n",
      "_DENVST3                4\n",
      "_MICHD               5021\n",
      "_LTASTH1                0\n",
      "_CASTHM1                0\n",
      "_ASTHMS1                0\n",
      "_DRDXAR2             2633\n",
      "_PRACE2                13\n",
      "_MRACE2                11\n",
      "_HISPANC                0\n",
      "_RACE1                  2\n",
      "_RACEG22                2\n",
      "_RACEGR4                2\n",
      "_RACEPR1                0\n",
      "_SEX                    0\n",
      "_AGEG5YR                0\n",
      "_AGE65YR                0\n",
      "_AGE80                  0\n",
      "_AGE_G                  0\n",
      "HTIN4               32476\n",
      "HTM4                28652\n",
      "WTKG3               42078\n",
      "_BMI5               48806\n",
      "_BMI5CAT            48806\n",
      "_RFBMI5                 0\n",
      "_CHLDCNT                1\n",
      "_EDUCAG                 0\n",
      "_INCOMG1                0\n",
      "_RFMAM22           263892\n",
      "_MAM5023           342456\n",
      "_HADCOLN           159803\n",
      "_CLNSCP1           223180\n",
      "_HADSIGM           159803\n",
      "_SGMSCP1           222919\n",
      "_SGMS101           222919\n",
      "_RFBLDS5           224909\n",
      "_STOLDN1           225325\n",
      "_VIRCOL1           225518\n",
      "_SBONTI1           229733\n",
      "_CRCREC2           223041\n",
      "_SMOKER3                0\n",
      "_RFSMOK3                0\n",
      "_CURECI2                0\n",
      "_YRSSMOK           297528\n",
      "_PACKDAY           294885\n",
      "_PACKYRS           302267\n",
      "_YRSQUIT           338802\n",
      "_SMOKGRP            35462\n",
      "_LCSREC            393679\n",
      "DRNKANY6                0\n",
      "DROCDY4_                4\n",
      "_RFBING6                0\n",
      "_DRNKWK2                0\n",
      "_RFDRHV8                0\n",
      "_FLSHOT7           276713\n",
      "_PNEUMO3           276713\n",
      "_AIDTST4            46235\n",
      "non_blank_count         0\n",
      "non_blank_perc          0\n",
      "dtype: int64\n"
     ]
    }
   ],
   "source": [
    "blank_counts = (df == \"BLANK\").sum()\n",
    "with pd.option_context('display.max_rows', None):\n",
    "    print(blank_counts)"
   ]
  },
  {
   "cell_type": "code",
   "execution_count": 9,
   "metadata": {},
   "outputs": [
    {
     "name": "stdout",
     "output_type": "stream",
     "text": [
      "_STATE               0.000000\n",
      "FMONTH               0.000000\n",
      "IDATE                0.000000\n",
      "IMONTH               0.000000\n",
      "IDAY                 0.000000\n",
      "IYEAR                0.000000\n",
      "DISPCODE             0.000000\n",
      "SEQNO                0.000000\n",
      "_PSU                 0.000000\n",
      "CTELENM1            78.421906\n",
      "PVTRESD1            78.422131\n",
      "COLGHOUS            99.995732\n",
      "STATERE1            78.422131\n",
      "CELPHON1            78.421682\n",
      "LADULT1             78.422131\n",
      "COLGSEX1            99.995282\n",
      "NUMADULT            78.426175\n",
      "LANDSEX1            90.183586\n",
      "NUMMEN              88.670776\n",
      "NUMWOMEN            88.670102\n",
      "RESPSLCT            88.261235\n",
      "SAFETIME            21.578094\n",
      "CTELNUM1            21.578094\n",
      "CELLFON5            21.578318\n",
      "CADULT1             21.578318\n",
      "CELLSEX1            21.578543\n",
      "PVTRESD3            21.579666\n",
      "CCLGHOUS            99.702335\n",
      "CSTATE1             21.580116\n",
      "LANDLINE            21.580340\n",
      "HHADULT             21.580340\n",
      "SEXVAR               0.000000\n",
      "GENHLTH              0.000674\n",
      "PHYSHLTH             0.001123\n",
      "MENTHLTH             0.000674\n",
      "POORHLTH            42.546031\n",
      "PRIMINSR             0.000899\n",
      "PERSDOC3             0.000449\n",
      "MEDCOST1             0.000899\n",
      "CHECKUP1             0.000674\n",
      "EXERANY2             0.000449\n",
      "SLEPTIM1             0.000674\n",
      "LASTDEN4             0.306201\n",
      "RMVTETH4             0.306201\n",
      "CVDINFR4             0.000899\n",
      "CVDCRHD4             0.000449\n",
      "CVDSTRK3             0.000449\n",
      "ASTHMA3              0.000449\n",
      "ASTHNOW             85.017029\n",
      "CHCSCNC1             0.000449\n",
      "CHCOCNC1             0.000674\n",
      "CHCCOPD3             0.000449\n",
      "ADDEPEV3             0.001573\n",
      "CHCKDNY2             0.000449\n",
      "HAVARTH4             0.000674\n",
      "DIABETE4             0.000674\n",
      "DIABAGE4            86.260480\n",
      "MARITAL              0.001797\n",
      "EDUCA                0.001123\n",
      "RENTHOM1             0.002022\n",
      "NUMHHOL4            78.422356\n",
      "NUMPHON4            98.440238\n",
      "CPDEMO1C             0.635093\n",
      "VETERAN3             0.937475\n",
      "EMPLOY1              1.391947\n",
      "CHILDREN             2.091964\n",
      "INCOME3              2.905206\n",
      "PREGNANT            82.248412\n",
      "WEIGHT2              3.572199\n",
      "HEIGHT3              3.831448\n",
      "DEAF                 4.188421\n",
      "BLIND                4.460475\n",
      "DECIDE               4.714557\n",
      "DIFFWALK             4.977175\n",
      "DIFFDRES             5.139824\n",
      "DIFFALON             5.378629\n",
      "HADMAM              50.169163\n",
      "HOWLONG             61.559268\n",
      "CERVSCRN            50.393591\n",
      "CRVCLCNC            69.542293\n",
      "CRVCLPAP            69.584977\n",
      "CRVCLHPV            69.633277\n",
      "HADHYST2            51.097877\n",
      "HADSIGM4            34.239956\n",
      "COLNSIGM            52.188789\n",
      "COLNTES1            53.433139\n",
      "SIGMTES1            92.954225\n",
      "LASTSIG4            99.219557\n",
      "COLNCNCR            34.606813\n",
      "VIRCOLO1            86.101426\n",
      "VCLNTES2            97.982846\n",
      "SMALSTOL            86.144335\n",
      "STOLTEST            88.908009\n",
      "STOOLDN2            86.205889\n",
      "BLDSTFIT            97.440310\n",
      "SDNATES1            97.447499\n",
      "SMOKE100             7.138781\n",
      "SMOKDAY2            63.145090\n",
      "USENOW3              7.323670\n",
      "ECIGNOW2             7.543605\n",
      "LCSFIRST            63.670327\n",
      "LCSLAST             72.902645\n",
      "LCSNUMCG            64.922764\n",
      "LCSCTSC1             8.583971\n",
      "LCSSCNCR            62.803168\n",
      "LCSCTWHN            92.922324\n",
      "ALCDAY4              9.157508\n",
      "AVEDRNK3            52.741434\n",
      "DRNK3GE5            52.856905\n",
      "MAXDRNKS            52.955303\n",
      "FLUSHOT7             9.793275\n",
      "FLSHTMY3            53.075942\n",
      "PNEUVAC4            10.049154\n",
      "TETANUS1            10.195403\n",
      "HIVTST7             10.386807\n",
      "HIVTSTD3            71.050610\n",
      "HIVRISK5            10.886883\n",
      "COVIDPOS            11.060764\n",
      "COVIDSMP            72.098389\n",
      "COVIDPRM            93.998409\n",
      "PDIABTS1            68.492941\n",
      "PREDIAB2            68.498782\n",
      "DIABTYPE            97.169379\n",
      "INSULIN1            97.169379\n",
      "CHKHEMO3            97.169379\n",
      "EYEEXAM1            97.169379\n",
      "DIABEYE1            97.169379\n",
      "DIABEDU1            97.169379\n",
      "FEETSORE            97.169379\n",
      "TOLDCFS            100.000000\n",
      "HAVECFS            100.000000\n",
      "WORKCFS            100.000000\n",
      "IMFVPLA3            97.968468\n",
      "HPVADVC4            98.349703\n",
      "HPVADSHT            99.624381\n",
      "SHINGLE2            96.689297\n",
      "COVIDVA1            65.618513\n",
      "COVIDNU1            71.975279\n",
      "COVIDFS1            72.156798\n",
      "COVIDSE1            73.695668\n",
      "COPDCOGH            98.367001\n",
      "COPDFLEM            98.368574\n",
      "COPDBRTH            98.371494\n",
      "COPDBTST            98.375313\n",
      "COPDSMOK            98.379132\n",
      "CNCRDIFF            94.743357\n",
      "CNCRAGE             94.930717\n",
      "CNCRTYP2            94.935435\n",
      "CSRVTRT3            96.113063\n",
      "CSRVDOC1            97.796833\n",
      "CSRVSUM             97.802225\n",
      "CSRVRTRN            97.804921\n",
      "CSRVINST            98.371270\n",
      "CSRVINSR            97.810088\n",
      "CSRVDEIN            97.811885\n",
      "CSRVCLIN            97.814356\n",
      "CSRVPAIN            96.159117\n",
      "CSRVCTL2            99.653811\n",
      "PSATEST1            98.386995\n",
      "PSATIME1            99.113521\n",
      "PCPSARS2            99.115768\n",
      "PSASUGST            99.012877\n",
      "PCSTALK1            98.479552\n",
      "CIMEMLOS            85.470602\n",
      "CDHOUSE             98.325665\n",
      "CDASSIST            98.330608\n",
      "CDHELP              99.565747\n",
      "CDSOCIAL            98.334202\n",
      "CDDISCUS            98.337572\n",
      "CAREGIV1            77.869486\n",
      "CRGVREL4            95.589174\n",
      "CRGVLNG1            95.600631\n",
      "CRGVHRS1            95.611863\n",
      "CRGVPRB3            95.625567\n",
      "CRGVALZD            96.113512\n",
      "CRGVPER1            95.641742\n",
      "CRGVHOU1            95.650728\n",
      "CRGVEXPT            82.357143\n",
      "ACEDEPRS            89.152431\n",
      "ACEDRINK            89.164787\n",
      "ACEDRUGS            89.167258\n",
      "ACEPRISN            89.173099\n",
      "ACEDIVRC            89.178042\n",
      "ACEPUNCH            89.187702\n",
      "ACEHURT1            89.199384\n",
      "ACESWEAR            89.210167\n",
      "ACETOUCH            89.222972\n",
      "ACETTHEM            89.231060\n",
      "ACEHVSEX            89.244539\n",
      "ACEADSAF            89.256895\n",
      "ACEADNED            89.271272\n",
      "LSATISFY            42.828644\n",
      "EMTSUPRT            42.906598\n",
      "SDHISOLT            42.985452\n",
      "SDHEMPLY            43.047231\n",
      "FOODSTMP            43.109235\n",
      "SDHFOOD1            43.201343\n",
      "SDHBILLS            43.270311\n",
      "SDHUTILS            43.324901\n",
      "SDHTRNSP            43.400385\n",
      "SDHSTRE1            43.564830\n",
      "MARIJAN1            78.676213\n",
      "MARJSMOK            97.414250\n",
      "MARJEAT             97.415598\n",
      "MARJVAPE            97.415823\n",
      "MARJDAB             97.417620\n",
      "MARJOTHR            97.419417\n",
      "USEMRJN4            98.875390\n",
      "LASTSMK2            89.349451\n",
      "STOPSMK2            95.756540\n",
      "MENTCIGS            98.878086\n",
      "MENTECIG            99.513852\n",
      "HEATTBCO            96.623698\n",
      "ASBIALCH            86.309230\n",
      "ASBIDRNK            86.332144\n",
      "ASBIBING            86.357305\n",
      "ASBIADVC            86.645534\n",
      "ASBIRDUC            89.526702\n",
      "FIREARM5            91.058832\n",
      "GUNLOAD             96.894180\n",
      "LOADULK2            99.089034\n",
      "RCSGEND1            86.748201\n",
      "RCSXBRTH            99.222029\n",
      "RCSRLTN2            86.863672\n",
      "CASTHDX2            88.618882\n",
      "CASTHNO2            98.803052\n",
      "BIRTHSEX            82.156529\n",
      "SOMALE              72.135906\n",
      "SOFEMALE            68.631777\n",
      "TRNSGNDR            40.790372\n",
      "HADSEX              95.534808\n",
      "PFPPRVN4            96.701877\n",
      "TYPCNTR9            97.445701\n",
      "BRTHCNT4            97.452216\n",
      "WHEREGET            97.804247\n",
      "NOBCUSE8            99.289649\n",
      "BCPREFER            96.736474\n",
      "RRCLASS3            63.665160\n",
      "RRCOGNT2            63.753673\n",
      "RRTREAT             63.838816\n",
      "RRATWRK2            81.345533\n",
      "RRHCARE4            63.941483\n",
      "RRPHYSM2            64.012922\n",
      "QSTVER               0.000000\n",
      "QSTLANG              0.000000\n",
      "_METSTAT             2.113530\n",
      "_URBSTAT             2.113530\n",
      "MSCODE              78.908279\n",
      "_STSTR               0.000000\n",
      "_STRWT               0.000000\n",
      "_RAWRAKE             0.000000\n",
      "_WT2RAKE             0.000000\n",
      "_IMPRACE             0.000000\n",
      "_CHISPNC            27.143184\n",
      "_CRACE2             86.330796\n",
      "_CPRACE2            86.523099\n",
      "CAGEG               88.727838\n",
      "_CLLCPWT            86.712705\n",
      "_DUALUSE             0.000000\n",
      "_DUALCOR            64.498396\n",
      "_LLCPWT2             0.000000\n",
      "_LLCPWT              0.000000\n",
      "_RFHLTH              0.000000\n",
      "_PHYS14D             0.000000\n",
      "_MENT14D             0.000000\n",
      "_HLTHPLN             0.000000\n",
      "_HCVU652             0.000000\n",
      "_TOTINDA             0.000000\n",
      "_EXTETH3             0.000000\n",
      "_ALTETH3            62.164257\n",
      "_DENVST3             0.000899\n",
      "_MICHD               1.127980\n",
      "_LTASTH1             0.000000\n",
      "_CASTHM1             0.000000\n",
      "_ASTHMS1             0.000000\n",
      "_DRDXAR2             0.591510\n",
      "_PRACE2              0.002920\n",
      "_MRACE2              0.002471\n",
      "_HISPANC             0.000000\n",
      "_RACE1               0.000449\n",
      "_RACEG22             0.000449\n",
      "_RACEGR4             0.000449\n",
      "_RACEPR1             0.000000\n",
      "_SEX                 0.000000\n",
      "_AGEG5YR             0.000000\n",
      "_AGE65YR             0.000000\n",
      "_AGE80               0.000000\n",
      "_AGE_G               0.000000\n",
      "HTIN4                7.295813\n",
      "HTM4                 6.436742\n",
      "WTKG3                9.452926\n",
      "_BMI5               10.964388\n",
      "_BMI5CAT            10.964388\n",
      "_RFBMI5              0.000000\n",
      "_CHLDCNT             0.000225\n",
      "_EDUCAG              0.000000\n",
      "_INCOMG1             0.000000\n",
      "_RFMAM22            59.283988\n",
      "_MAM5023            76.933584\n",
      "_HADCOLN            35.900137\n",
      "_CLNSCP1            50.137937\n",
      "_HADSIGM            35.900137\n",
      "_SGMSCP1            50.079302\n",
      "_SGMS101            50.079302\n",
      "_RFBLDS5            50.526361\n",
      "_STOLDN1            50.619816\n",
      "_VIRCOL1            50.663174\n",
      "_SBONTI1            51.610084\n",
      "_CRCREC2            50.106710\n",
      "_SMOKER3             0.000000\n",
      "_RFSMOK3             0.000000\n",
      "_CURECI2             0.000000\n",
      "_YRSSMOK            66.840398\n",
      "_PACKDAY            66.246641\n",
      "_PACKYRS            67.905026\n",
      "_YRSQUIT            76.112704\n",
      "_SMOKGRP             7.966626\n",
      "_LCSREC             88.440957\n",
      "DRNKANY6             0.000000\n",
      "DROCDY4_             0.000899\n",
      "_RFBING6             0.000000\n",
      "_DRNKWK2             0.000000\n",
      "_RFDRHV8             0.000000\n",
      "_FLSHOT7            62.164257\n",
      "_PNEUMO3            62.164257\n",
      "_AIDTST4            10.386807\n",
      "non_blank_count      0.000000\n",
      "non_blank_perc       0.000000\n",
      "dtype: float64\n"
     ]
    }
   ],
   "source": [
    "blank_perc = blank_counts / record_sum * 100\n",
    "with pd.option_context('display.max_rows', None):\n",
    "    print(blank_perc)"
   ]
  },
  {
   "cell_type": "code",
   "execution_count": 10,
   "metadata": {},
   "outputs": [
    {
     "data": {
      "text/html": [
       "<div>\n",
       "<style scoped>\n",
       "    .dataframe tbody tr th:only-of-type {\n",
       "        vertical-align: middle;\n",
       "    }\n",
       "\n",
       "    .dataframe tbody tr th {\n",
       "        vertical-align: top;\n",
       "    }\n",
       "\n",
       "    .dataframe thead th {\n",
       "        text-align: right;\n",
       "    }\n",
       "</style>\n",
       "<table border=\"1\" class=\"dataframe\">\n",
       "  <thead>\n",
       "    <tr style=\"text-align: right;\">\n",
       "      <th></th>\n",
       "      <th>_STATE</th>\n",
       "      <th>FMONTH</th>\n",
       "      <th>IDATE</th>\n",
       "      <th>IMONTH</th>\n",
       "      <th>IDAY</th>\n",
       "      <th>IYEAR</th>\n",
       "      <th>DISPCODE</th>\n",
       "      <th>SEQNO</th>\n",
       "      <th>_PSU</th>\n",
       "      <th>CTELENM1</th>\n",
       "      <th>...</th>\n",
       "      <th>DRNKANY6</th>\n",
       "      <th>DROCDY4_</th>\n",
       "      <th>_RFBING6</th>\n",
       "      <th>_DRNKWK2</th>\n",
       "      <th>_RFDRHV8</th>\n",
       "      <th>_FLSHOT7</th>\n",
       "      <th>_PNEUMO3</th>\n",
       "      <th>_AIDTST4</th>\n",
       "      <th>non_blank_count</th>\n",
       "      <th>non_blank_perc</th>\n",
       "    </tr>\n",
       "  </thead>\n",
       "  <tbody>\n",
       "    <tr>\n",
       "      <th>0</th>\n",
       "      <td>1</td>\n",
       "      <td>1</td>\n",
       "      <td>2032022</td>\n",
       "      <td>2</td>\n",
       "      <td>3</td>\n",
       "      <td>2022</td>\n",
       "      <td>1100</td>\n",
       "      <td>2022000001</td>\n",
       "      <td>2022000001</td>\n",
       "      <td>1.0</td>\n",
       "      <td>...</td>\n",
       "      <td>2</td>\n",
       "      <td>0.0</td>\n",
       "      <td>1</td>\n",
       "      <td>0</td>\n",
       "      <td>1</td>\n",
       "      <td>1.0</td>\n",
       "      <td>2.0</td>\n",
       "      <td>2.0</td>\n",
       "      <td>177</td>\n",
       "      <td>0.558360</td>\n",
       "    </tr>\n",
       "    <tr>\n",
       "      <th>1</th>\n",
       "      <td>1</td>\n",
       "      <td>1</td>\n",
       "      <td>2042022</td>\n",
       "      <td>2</td>\n",
       "      <td>4</td>\n",
       "      <td>2022</td>\n",
       "      <td>1100</td>\n",
       "      <td>2022000002</td>\n",
       "      <td>2022000002</td>\n",
       "      <td>1.0</td>\n",
       "      <td>...</td>\n",
       "      <td>2</td>\n",
       "      <td>0.0</td>\n",
       "      <td>1</td>\n",
       "      <td>0</td>\n",
       "      <td>1</td>\n",
       "      <td>2.0</td>\n",
       "      <td>2.0</td>\n",
       "      <td>2.0</td>\n",
       "      <td>175</td>\n",
       "      <td>0.552050</td>\n",
       "    </tr>\n",
       "    <tr>\n",
       "      <th>2</th>\n",
       "      <td>1</td>\n",
       "      <td>1</td>\n",
       "      <td>2022022</td>\n",
       "      <td>2</td>\n",
       "      <td>2</td>\n",
       "      <td>2022</td>\n",
       "      <td>1100</td>\n",
       "      <td>2022000003</td>\n",
       "      <td>2022000003</td>\n",
       "      <td>1.0</td>\n",
       "      <td>...</td>\n",
       "      <td>2</td>\n",
       "      <td>0.0</td>\n",
       "      <td>1</td>\n",
       "      <td>0</td>\n",
       "      <td>1</td>\n",
       "      <td>BLANK</td>\n",
       "      <td>BLANK</td>\n",
       "      <td>2.0</td>\n",
       "      <td>171</td>\n",
       "      <td>0.539432</td>\n",
       "    </tr>\n",
       "    <tr>\n",
       "      <th>3</th>\n",
       "      <td>1</td>\n",
       "      <td>1</td>\n",
       "      <td>2032022</td>\n",
       "      <td>2</td>\n",
       "      <td>3</td>\n",
       "      <td>2022</td>\n",
       "      <td>1100</td>\n",
       "      <td>2022000004</td>\n",
       "      <td>2022000004</td>\n",
       "      <td>1.0</td>\n",
       "      <td>...</td>\n",
       "      <td>2</td>\n",
       "      <td>0.0</td>\n",
       "      <td>1</td>\n",
       "      <td>0</td>\n",
       "      <td>1</td>\n",
       "      <td>9.0</td>\n",
       "      <td>9.0</td>\n",
       "      <td>2.0</td>\n",
       "      <td>162</td>\n",
       "      <td>0.511041</td>\n",
       "    </tr>\n",
       "    <tr>\n",
       "      <th>4</th>\n",
       "      <td>1</td>\n",
       "      <td>1</td>\n",
       "      <td>2022022</td>\n",
       "      <td>2</td>\n",
       "      <td>2</td>\n",
       "      <td>2022</td>\n",
       "      <td>1100</td>\n",
       "      <td>2022000005</td>\n",
       "      <td>2022000005</td>\n",
       "      <td>1.0</td>\n",
       "      <td>...</td>\n",
       "      <td>1</td>\n",
       "      <td>10.0</td>\n",
       "      <td>1</td>\n",
       "      <td>140</td>\n",
       "      <td>1</td>\n",
       "      <td>BLANK</td>\n",
       "      <td>BLANK</td>\n",
       "      <td>2.0</td>\n",
       "      <td>176</td>\n",
       "      <td>0.555205</td>\n",
       "    </tr>\n",
       "    <tr>\n",
       "      <th>...</th>\n",
       "      <td>...</td>\n",
       "      <td>...</td>\n",
       "      <td>...</td>\n",
       "      <td>...</td>\n",
       "      <td>...</td>\n",
       "      <td>...</td>\n",
       "      <td>...</td>\n",
       "      <td>...</td>\n",
       "      <td>...</td>\n",
       "      <td>...</td>\n",
       "      <td>...</td>\n",
       "      <td>...</td>\n",
       "      <td>...</td>\n",
       "      <td>...</td>\n",
       "      <td>...</td>\n",
       "      <td>...</td>\n",
       "      <td>...</td>\n",
       "      <td>...</td>\n",
       "      <td>...</td>\n",
       "      <td>...</td>\n",
       "      <td>...</td>\n",
       "    </tr>\n",
       "    <tr>\n",
       "      <th>445127</th>\n",
       "      <td>78</td>\n",
       "      <td>11</td>\n",
       "      <td>12192022</td>\n",
       "      <td>12</td>\n",
       "      <td>19</td>\n",
       "      <td>2022</td>\n",
       "      <td>1100</td>\n",
       "      <td>2022001527</td>\n",
       "      <td>2022001527</td>\n",
       "      <td>BLANK</td>\n",
       "      <td>...</td>\n",
       "      <td>7</td>\n",
       "      <td>900.0</td>\n",
       "      <td>9</td>\n",
       "      <td>99900</td>\n",
       "      <td>9</td>\n",
       "      <td>BLANK</td>\n",
       "      <td>BLANK</td>\n",
       "      <td>1.0</td>\n",
       "      <td>177</td>\n",
       "      <td>0.558360</td>\n",
       "    </tr>\n",
       "    <tr>\n",
       "      <th>445128</th>\n",
       "      <td>78</td>\n",
       "      <td>11</td>\n",
       "      <td>12212022</td>\n",
       "      <td>12</td>\n",
       "      <td>21</td>\n",
       "      <td>2022</td>\n",
       "      <td>1100</td>\n",
       "      <td>2022001528</td>\n",
       "      <td>2022001528</td>\n",
       "      <td>BLANK</td>\n",
       "      <td>...</td>\n",
       "      <td>2</td>\n",
       "      <td>0.0</td>\n",
       "      <td>1</td>\n",
       "      <td>0</td>\n",
       "      <td>1</td>\n",
       "      <td>BLANK</td>\n",
       "      <td>BLANK</td>\n",
       "      <td>1.0</td>\n",
       "      <td>160</td>\n",
       "      <td>0.504732</td>\n",
       "    </tr>\n",
       "    <tr>\n",
       "      <th>445129</th>\n",
       "      <td>78</td>\n",
       "      <td>11</td>\n",
       "      <td>11292022</td>\n",
       "      <td>11</td>\n",
       "      <td>29</td>\n",
       "      <td>2022</td>\n",
       "      <td>1100</td>\n",
       "      <td>2022001529</td>\n",
       "      <td>2022001529</td>\n",
       "      <td>BLANK</td>\n",
       "      <td>...</td>\n",
       "      <td>7</td>\n",
       "      <td>900.0</td>\n",
       "      <td>9</td>\n",
       "      <td>99900</td>\n",
       "      <td>9</td>\n",
       "      <td>2.0</td>\n",
       "      <td>2.0</td>\n",
       "      <td>2.0</td>\n",
       "      <td>169</td>\n",
       "      <td>0.533123</td>\n",
       "    </tr>\n",
       "    <tr>\n",
       "      <th>445130</th>\n",
       "      <td>78</td>\n",
       "      <td>11</td>\n",
       "      <td>12082022</td>\n",
       "      <td>12</td>\n",
       "      <td>8</td>\n",
       "      <td>2022</td>\n",
       "      <td>1100</td>\n",
       "      <td>2022001530</td>\n",
       "      <td>2022001530</td>\n",
       "      <td>BLANK</td>\n",
       "      <td>...</td>\n",
       "      <td>2</td>\n",
       "      <td>0.0</td>\n",
       "      <td>1</td>\n",
       "      <td>0</td>\n",
       "      <td>1</td>\n",
       "      <td>1.0</td>\n",
       "      <td>1.0</td>\n",
       "      <td>1.0</td>\n",
       "      <td>165</td>\n",
       "      <td>0.520505</td>\n",
       "    </tr>\n",
       "    <tr>\n",
       "      <th>445131</th>\n",
       "      <td>78</td>\n",
       "      <td>11</td>\n",
       "      <td>12142022</td>\n",
       "      <td>12</td>\n",
       "      <td>14</td>\n",
       "      <td>2022</td>\n",
       "      <td>1100</td>\n",
       "      <td>2022001531</td>\n",
       "      <td>2022001531</td>\n",
       "      <td>BLANK</td>\n",
       "      <td>...</td>\n",
       "      <td>1</td>\n",
       "      <td>50.0</td>\n",
       "      <td>2</td>\n",
       "      <td>99900</td>\n",
       "      <td>9</td>\n",
       "      <td>BLANK</td>\n",
       "      <td>BLANK</td>\n",
       "      <td>2.0</td>\n",
       "      <td>173</td>\n",
       "      <td>0.545741</td>\n",
       "    </tr>\n",
       "  </tbody>\n",
       "</table>\n",
       "<p>445132 rows × 328 columns</p>\n",
       "</div>"
      ],
      "text/plain": [
       "        _STATE  FMONTH     IDATE  IMONTH  IDAY  IYEAR  DISPCODE       SEQNO  \\\n",
       "0            1       1   2032022       2     3   2022      1100  2022000001   \n",
       "1            1       1   2042022       2     4   2022      1100  2022000002   \n",
       "2            1       1   2022022       2     2   2022      1100  2022000003   \n",
       "3            1       1   2032022       2     3   2022      1100  2022000004   \n",
       "4            1       1   2022022       2     2   2022      1100  2022000005   \n",
       "...        ...     ...       ...     ...   ...    ...       ...         ...   \n",
       "445127      78      11  12192022      12    19   2022      1100  2022001527   \n",
       "445128      78      11  12212022      12    21   2022      1100  2022001528   \n",
       "445129      78      11  11292022      11    29   2022      1100  2022001529   \n",
       "445130      78      11  12082022      12     8   2022      1100  2022001530   \n",
       "445131      78      11  12142022      12    14   2022      1100  2022001531   \n",
       "\n",
       "              _PSU CTELENM1  ... DRNKANY6 DROCDY4_ _RFBING6 _DRNKWK2 _RFDRHV8  \\\n",
       "0       2022000001      1.0  ...        2      0.0        1        0        1   \n",
       "1       2022000002      1.0  ...        2      0.0        1        0        1   \n",
       "2       2022000003      1.0  ...        2      0.0        1        0        1   \n",
       "3       2022000004      1.0  ...        2      0.0        1        0        1   \n",
       "4       2022000005      1.0  ...        1     10.0        1      140        1   \n",
       "...            ...      ...  ...      ...      ...      ...      ...      ...   \n",
       "445127  2022001527    BLANK  ...        7    900.0        9    99900        9   \n",
       "445128  2022001528    BLANK  ...        2      0.0        1        0        1   \n",
       "445129  2022001529    BLANK  ...        7    900.0        9    99900        9   \n",
       "445130  2022001530    BLANK  ...        2      0.0        1        0        1   \n",
       "445131  2022001531    BLANK  ...        1     50.0        2    99900        9   \n",
       "\n",
       "       _FLSHOT7 _PNEUMO3 _AIDTST4 non_blank_count non_blank_perc  \n",
       "0           1.0      2.0      2.0             177       0.558360  \n",
       "1           2.0      2.0      2.0             175       0.552050  \n",
       "2         BLANK    BLANK      2.0             171       0.539432  \n",
       "3           9.0      9.0      2.0             162       0.511041  \n",
       "4         BLANK    BLANK      2.0             176       0.555205  \n",
       "...         ...      ...      ...             ...            ...  \n",
       "445127    BLANK    BLANK      1.0             177       0.558360  \n",
       "445128    BLANK    BLANK      1.0             160       0.504732  \n",
       "445129      2.0      2.0      2.0             169       0.533123  \n",
       "445130      1.0      1.0      1.0             165       0.520505  \n",
       "445131    BLANK    BLANK      2.0             173       0.545741  \n",
       "\n",
       "[445132 rows x 328 columns]"
      ]
     },
     "execution_count": 10,
     "metadata": {},
     "output_type": "execute_result"
    }
   ],
   "source": [
    "df"
   ]
  },
  {
   "cell_type": "code",
   "execution_count": 11,
   "metadata": {},
   "outputs": [],
   "source": [
    "def process_variable(var):\n",
    "    if isinstance(var, int):\n",
    "        result = str(var)\n",
    "    elif isinstance(var, float):\n",
    "        result = str(int(var))\n",
    "    else:\n",
    "        result = var\n",
    "    \n",
    "    return result"
   ]
  },
  {
   "cell_type": "code",
   "execution_count": 12,
   "metadata": {},
   "outputs": [],
   "source": [
    "new_column_names = []\n",
    "for column_name in df.columns:\n",
    "    if column_name in data_element_details and 'Label' in data_element_details[column_name]:\n",
    "        new_column_names.append(data_element_details[column_name]['Label'])\n",
    "        values_map = {key: value['Value Label'] for key, value in data_element_details[column_name]['Valid Values'].items()}\n",
    "        df[column_name] = df[column_name].map(lambda x: values_map.get(process_variable(x), x))\n",
    "    else:\n",
    "        new_column_names.append(column_name)\n",
    "    \n",
    "df.columns = new_column_names"
   ]
  },
  {
   "cell_type": "code",
   "execution_count": 13,
   "metadata": {},
   "outputs": [
    {
     "data": {
      "application/vnd.plotly.v1+json": {
       "config": {
        "plotlyServerURL": "https://plot.ly"
       },
       "data": [
        {
         "type": "bar",
         "x": [
          "Completed Interview",
          "Partial Complete Interview"
         ],
         "y": [
          353271,
          91861
         ]
        }
       ],
       "layout": {
        "template": {
         "data": {
          "bar": [
           {
            "error_x": {
             "color": "#2a3f5f"
            },
            "error_y": {
             "color": "#2a3f5f"
            },
            "marker": {
             "line": {
              "color": "#E5ECF6",
              "width": 0.5
             },
             "pattern": {
              "fillmode": "overlay",
              "size": 10,
              "solidity": 0.2
             }
            },
            "type": "bar"
           }
          ],
          "barpolar": [
           {
            "marker": {
             "line": {
              "color": "#E5ECF6",
              "width": 0.5
             },
             "pattern": {
              "fillmode": "overlay",
              "size": 10,
              "solidity": 0.2
             }
            },
            "type": "barpolar"
           }
          ],
          "carpet": [
           {
            "aaxis": {
             "endlinecolor": "#2a3f5f",
             "gridcolor": "white",
             "linecolor": "white",
             "minorgridcolor": "white",
             "startlinecolor": "#2a3f5f"
            },
            "baxis": {
             "endlinecolor": "#2a3f5f",
             "gridcolor": "white",
             "linecolor": "white",
             "minorgridcolor": "white",
             "startlinecolor": "#2a3f5f"
            },
            "type": "carpet"
           }
          ],
          "choropleth": [
           {
            "colorbar": {
             "outlinewidth": 0,
             "ticks": ""
            },
            "type": "choropleth"
           }
          ],
          "contour": [
           {
            "colorbar": {
             "outlinewidth": 0,
             "ticks": ""
            },
            "colorscale": [
             [
              0,
              "#0d0887"
             ],
             [
              0.1111111111111111,
              "#46039f"
             ],
             [
              0.2222222222222222,
              "#7201a8"
             ],
             [
              0.3333333333333333,
              "#9c179e"
             ],
             [
              0.4444444444444444,
              "#bd3786"
             ],
             [
              0.5555555555555556,
              "#d8576b"
             ],
             [
              0.6666666666666666,
              "#ed7953"
             ],
             [
              0.7777777777777778,
              "#fb9f3a"
             ],
             [
              0.8888888888888888,
              "#fdca26"
             ],
             [
              1,
              "#f0f921"
             ]
            ],
            "type": "contour"
           }
          ],
          "contourcarpet": [
           {
            "colorbar": {
             "outlinewidth": 0,
             "ticks": ""
            },
            "type": "contourcarpet"
           }
          ],
          "heatmap": [
           {
            "colorbar": {
             "outlinewidth": 0,
             "ticks": ""
            },
            "colorscale": [
             [
              0,
              "#0d0887"
             ],
             [
              0.1111111111111111,
              "#46039f"
             ],
             [
              0.2222222222222222,
              "#7201a8"
             ],
             [
              0.3333333333333333,
              "#9c179e"
             ],
             [
              0.4444444444444444,
              "#bd3786"
             ],
             [
              0.5555555555555556,
              "#d8576b"
             ],
             [
              0.6666666666666666,
              "#ed7953"
             ],
             [
              0.7777777777777778,
              "#fb9f3a"
             ],
             [
              0.8888888888888888,
              "#fdca26"
             ],
             [
              1,
              "#f0f921"
             ]
            ],
            "type": "heatmap"
           }
          ],
          "heatmapgl": [
           {
            "colorbar": {
             "outlinewidth": 0,
             "ticks": ""
            },
            "colorscale": [
             [
              0,
              "#0d0887"
             ],
             [
              0.1111111111111111,
              "#46039f"
             ],
             [
              0.2222222222222222,
              "#7201a8"
             ],
             [
              0.3333333333333333,
              "#9c179e"
             ],
             [
              0.4444444444444444,
              "#bd3786"
             ],
             [
              0.5555555555555556,
              "#d8576b"
             ],
             [
              0.6666666666666666,
              "#ed7953"
             ],
             [
              0.7777777777777778,
              "#fb9f3a"
             ],
             [
              0.8888888888888888,
              "#fdca26"
             ],
             [
              1,
              "#f0f921"
             ]
            ],
            "type": "heatmapgl"
           }
          ],
          "histogram": [
           {
            "marker": {
             "pattern": {
              "fillmode": "overlay",
              "size": 10,
              "solidity": 0.2
             }
            },
            "type": "histogram"
           }
          ],
          "histogram2d": [
           {
            "colorbar": {
             "outlinewidth": 0,
             "ticks": ""
            },
            "colorscale": [
             [
              0,
              "#0d0887"
             ],
             [
              0.1111111111111111,
              "#46039f"
             ],
             [
              0.2222222222222222,
              "#7201a8"
             ],
             [
              0.3333333333333333,
              "#9c179e"
             ],
             [
              0.4444444444444444,
              "#bd3786"
             ],
             [
              0.5555555555555556,
              "#d8576b"
             ],
             [
              0.6666666666666666,
              "#ed7953"
             ],
             [
              0.7777777777777778,
              "#fb9f3a"
             ],
             [
              0.8888888888888888,
              "#fdca26"
             ],
             [
              1,
              "#f0f921"
             ]
            ],
            "type": "histogram2d"
           }
          ],
          "histogram2dcontour": [
           {
            "colorbar": {
             "outlinewidth": 0,
             "ticks": ""
            },
            "colorscale": [
             [
              0,
              "#0d0887"
             ],
             [
              0.1111111111111111,
              "#46039f"
             ],
             [
              0.2222222222222222,
              "#7201a8"
             ],
             [
              0.3333333333333333,
              "#9c179e"
             ],
             [
              0.4444444444444444,
              "#bd3786"
             ],
             [
              0.5555555555555556,
              "#d8576b"
             ],
             [
              0.6666666666666666,
              "#ed7953"
             ],
             [
              0.7777777777777778,
              "#fb9f3a"
             ],
             [
              0.8888888888888888,
              "#fdca26"
             ],
             [
              1,
              "#f0f921"
             ]
            ],
            "type": "histogram2dcontour"
           }
          ],
          "mesh3d": [
           {
            "colorbar": {
             "outlinewidth": 0,
             "ticks": ""
            },
            "type": "mesh3d"
           }
          ],
          "parcoords": [
           {
            "line": {
             "colorbar": {
              "outlinewidth": 0,
              "ticks": ""
             }
            },
            "type": "parcoords"
           }
          ],
          "pie": [
           {
            "automargin": true,
            "type": "pie"
           }
          ],
          "scatter": [
           {
            "fillpattern": {
             "fillmode": "overlay",
             "size": 10,
             "solidity": 0.2
            },
            "type": "scatter"
           }
          ],
          "scatter3d": [
           {
            "line": {
             "colorbar": {
              "outlinewidth": 0,
              "ticks": ""
             }
            },
            "marker": {
             "colorbar": {
              "outlinewidth": 0,
              "ticks": ""
             }
            },
            "type": "scatter3d"
           }
          ],
          "scattercarpet": [
           {
            "marker": {
             "colorbar": {
              "outlinewidth": 0,
              "ticks": ""
             }
            },
            "type": "scattercarpet"
           }
          ],
          "scattergeo": [
           {
            "marker": {
             "colorbar": {
              "outlinewidth": 0,
              "ticks": ""
             }
            },
            "type": "scattergeo"
           }
          ],
          "scattergl": [
           {
            "marker": {
             "colorbar": {
              "outlinewidth": 0,
              "ticks": ""
             }
            },
            "type": "scattergl"
           }
          ],
          "scattermapbox": [
           {
            "marker": {
             "colorbar": {
              "outlinewidth": 0,
              "ticks": ""
             }
            },
            "type": "scattermapbox"
           }
          ],
          "scatterpolar": [
           {
            "marker": {
             "colorbar": {
              "outlinewidth": 0,
              "ticks": ""
             }
            },
            "type": "scatterpolar"
           }
          ],
          "scatterpolargl": [
           {
            "marker": {
             "colorbar": {
              "outlinewidth": 0,
              "ticks": ""
             }
            },
            "type": "scatterpolargl"
           }
          ],
          "scatterternary": [
           {
            "marker": {
             "colorbar": {
              "outlinewidth": 0,
              "ticks": ""
             }
            },
            "type": "scatterternary"
           }
          ],
          "surface": [
           {
            "colorbar": {
             "outlinewidth": 0,
             "ticks": ""
            },
            "colorscale": [
             [
              0,
              "#0d0887"
             ],
             [
              0.1111111111111111,
              "#46039f"
             ],
             [
              0.2222222222222222,
              "#7201a8"
             ],
             [
              0.3333333333333333,
              "#9c179e"
             ],
             [
              0.4444444444444444,
              "#bd3786"
             ],
             [
              0.5555555555555556,
              "#d8576b"
             ],
             [
              0.6666666666666666,
              "#ed7953"
             ],
             [
              0.7777777777777778,
              "#fb9f3a"
             ],
             [
              0.8888888888888888,
              "#fdca26"
             ],
             [
              1,
              "#f0f921"
             ]
            ],
            "type": "surface"
           }
          ],
          "table": [
           {
            "cells": {
             "fill": {
              "color": "#EBF0F8"
             },
             "line": {
              "color": "white"
             }
            },
            "header": {
             "fill": {
              "color": "#C8D4E3"
             },
             "line": {
              "color": "white"
             }
            },
            "type": "table"
           }
          ]
         },
         "layout": {
          "annotationdefaults": {
           "arrowcolor": "#2a3f5f",
           "arrowhead": 0,
           "arrowwidth": 1
          },
          "autotypenumbers": "strict",
          "coloraxis": {
           "colorbar": {
            "outlinewidth": 0,
            "ticks": ""
           }
          },
          "colorscale": {
           "diverging": [
            [
             0,
             "#8e0152"
            ],
            [
             0.1,
             "#c51b7d"
            ],
            [
             0.2,
             "#de77ae"
            ],
            [
             0.3,
             "#f1b6da"
            ],
            [
             0.4,
             "#fde0ef"
            ],
            [
             0.5,
             "#f7f7f7"
            ],
            [
             0.6,
             "#e6f5d0"
            ],
            [
             0.7,
             "#b8e186"
            ],
            [
             0.8,
             "#7fbc41"
            ],
            [
             0.9,
             "#4d9221"
            ],
            [
             1,
             "#276419"
            ]
           ],
           "sequential": [
            [
             0,
             "#0d0887"
            ],
            [
             0.1111111111111111,
             "#46039f"
            ],
            [
             0.2222222222222222,
             "#7201a8"
            ],
            [
             0.3333333333333333,
             "#9c179e"
            ],
            [
             0.4444444444444444,
             "#bd3786"
            ],
            [
             0.5555555555555556,
             "#d8576b"
            ],
            [
             0.6666666666666666,
             "#ed7953"
            ],
            [
             0.7777777777777778,
             "#fb9f3a"
            ],
            [
             0.8888888888888888,
             "#fdca26"
            ],
            [
             1,
             "#f0f921"
            ]
           ],
           "sequentialminus": [
            [
             0,
             "#0d0887"
            ],
            [
             0.1111111111111111,
             "#46039f"
            ],
            [
             0.2222222222222222,
             "#7201a8"
            ],
            [
             0.3333333333333333,
             "#9c179e"
            ],
            [
             0.4444444444444444,
             "#bd3786"
            ],
            [
             0.5555555555555556,
             "#d8576b"
            ],
            [
             0.6666666666666666,
             "#ed7953"
            ],
            [
             0.7777777777777778,
             "#fb9f3a"
            ],
            [
             0.8888888888888888,
             "#fdca26"
            ],
            [
             1,
             "#f0f921"
            ]
           ]
          },
          "colorway": [
           "#636efa",
           "#EF553B",
           "#00cc96",
           "#ab63fa",
           "#FFA15A",
           "#19d3f3",
           "#FF6692",
           "#B6E880",
           "#FF97FF",
           "#FECB52"
          ],
          "font": {
           "color": "#2a3f5f"
          },
          "geo": {
           "bgcolor": "white",
           "lakecolor": "white",
           "landcolor": "#E5ECF6",
           "showlakes": true,
           "showland": true,
           "subunitcolor": "white"
          },
          "hoverlabel": {
           "align": "left"
          },
          "hovermode": "closest",
          "mapbox": {
           "style": "light"
          },
          "paper_bgcolor": "white",
          "plot_bgcolor": "#E5ECF6",
          "polar": {
           "angularaxis": {
            "gridcolor": "white",
            "linecolor": "white",
            "ticks": ""
           },
           "bgcolor": "#E5ECF6",
           "radialaxis": {
            "gridcolor": "white",
            "linecolor": "white",
            "ticks": ""
           }
          },
          "scene": {
           "xaxis": {
            "backgroundcolor": "#E5ECF6",
            "gridcolor": "white",
            "gridwidth": 2,
            "linecolor": "white",
            "showbackground": true,
            "ticks": "",
            "zerolinecolor": "white"
           },
           "yaxis": {
            "backgroundcolor": "#E5ECF6",
            "gridcolor": "white",
            "gridwidth": 2,
            "linecolor": "white",
            "showbackground": true,
            "ticks": "",
            "zerolinecolor": "white"
           },
           "zaxis": {
            "backgroundcolor": "#E5ECF6",
            "gridcolor": "white",
            "gridwidth": 2,
            "linecolor": "white",
            "showbackground": true,
            "ticks": "",
            "zerolinecolor": "white"
           }
          },
          "shapedefaults": {
           "line": {
            "color": "#2a3f5f"
           }
          },
          "ternary": {
           "aaxis": {
            "gridcolor": "white",
            "linecolor": "white",
            "ticks": ""
           },
           "baxis": {
            "gridcolor": "white",
            "linecolor": "white",
            "ticks": ""
           },
           "bgcolor": "#E5ECF6",
           "caxis": {
            "gridcolor": "white",
            "linecolor": "white",
            "ticks": ""
           }
          },
          "title": {
           "x": 0.05
          },
          "xaxis": {
           "automargin": true,
           "gridcolor": "white",
           "linecolor": "white",
           "ticks": "",
           "title": {
            "standoff": 15
           },
           "zerolinecolor": "white",
           "zerolinewidth": 2
          },
          "yaxis": {
           "automargin": true,
           "gridcolor": "white",
           "linecolor": "white",
           "ticks": "",
           "title": {
            "standoff": 15
           },
           "zerolinecolor": "white",
           "zerolinewidth": 2
          }
         }
        },
        "title": {
         "text": "Histogram of Final Disposition"
        },
        "xaxis": {
         "title": {
          "text": "Final Disposition"
         }
        },
        "yaxis": {
         "title": {
          "text": "Count"
         }
        }
       }
      }
     },
     "metadata": {},
     "output_type": "display_data"
    }
   ],
   "source": [
    "value_counts = df['Final Disposition'].value_counts()\n",
    "\n",
    "fig = go.Figure(data=[go.Bar(\n",
    "    x=value_counts.index,  # Unique values in the Series\n",
    "    y=value_counts.values  # Frequency counts\n",
    ")])\n",
    "\n",
    "fig.update_layout(\n",
    "    title='Histogram of Final Disposition',\n",
    "    xaxis_title='Final Disposition',\n",
    "    yaxis_title='Count'\n",
    ")\n",
    "\n",
    "fig.show()"
   ]
  },
  {
   "cell_type": "code",
   "execution_count": 14,
   "metadata": {},
   "outputs": [
    {
     "data": {
      "text/html": [
       "<div>\n",
       "<style scoped>\n",
       "    .dataframe tbody tr th:only-of-type {\n",
       "        vertical-align: middle;\n",
       "    }\n",
       "\n",
       "    .dataframe tbody tr th {\n",
       "        vertical-align: top;\n",
       "    }\n",
       "\n",
       "    .dataframe thead th {\n",
       "        text-align: right;\n",
       "    }\n",
       "</style>\n",
       "<table border=\"1\" class=\"dataframe\">\n",
       "  <thead>\n",
       "    <tr style=\"text-align: right;\">\n",
       "      <th></th>\n",
       "      <th>State FIPS Code</th>\n",
       "      <th>File Month</th>\n",
       "      <th>Interview Date</th>\n",
       "      <th>Interview Month</th>\n",
       "      <th>Interview Day</th>\n",
       "      <th>Interview Year</th>\n",
       "      <th>Final Disposition</th>\n",
       "      <th>Annual Sequence Number</th>\n",
       "      <th>Primary Sampling Unit</th>\n",
       "      <th>Correct telephone number?</th>\n",
       "      <th>...</th>\n",
       "      <th>Drink any alcoholic beverages in past 30 days</th>\n",
       "      <th>Computed drink-occasions-per-day</th>\n",
       "      <th>Binge Drinking Calculated Variable</th>\n",
       "      <th>Computed number of drinks of alcohol beverages per week</th>\n",
       "      <th>Heavy Alcohol Consumption  Calculated Variable</th>\n",
       "      <th>Flu Shot Calculated Variable</th>\n",
       "      <th>Pneumonia Vaccination Calculated Variable</th>\n",
       "      <th>Ever been tested for HIV calculated variable</th>\n",
       "      <th>non_blank_count</th>\n",
       "      <th>non_blank_perc</th>\n",
       "    </tr>\n",
       "  </thead>\n",
       "  <tbody>\n",
       "    <tr>\n",
       "      <th>0</th>\n",
       "      <td>Alabama</td>\n",
       "      <td>January</td>\n",
       "      <td>2032022</td>\n",
       "      <td>February</td>\n",
       "      <td></td>\n",
       "      <td></td>\n",
       "      <td>Completed Interview</td>\n",
       "      <td>2022000001</td>\n",
       "      <td>2022000001</td>\n",
       "      <td>YesGo to LL.02, PVTRESD1</td>\n",
       "      <td>...</td>\n",
       "      <td>No\\nNotes: ALCDAY4=888</td>\n",
       "      <td>No Drink-Occasions per day\\nNotes: ALCDAY4 = 888</td>\n",
       "      <td>No\\nNotes: ALCDAY4&lt;231 and DRNK3GE5=88; or ALC...</td>\n",
       "      <td>Did not drink\\nNotes: DROCDY4_=0 or AVEDRNK3=88</td>\n",
       "      <td>No\\nNotes: (SEXVAR=1 or BIRTHSEX=1) and _DRNKW...</td>\n",
       "      <td>Yes\\nNotes: AGE &gt;=65 and FLUSHOT7 = 1</td>\n",
       "      <td>No\\nNotes: AGE &gt;= 65 and PNEUVAC4 = 2</td>\n",
       "      <td>No\\nNotes: HIVTST7 = 2</td>\n",
       "      <td>177</td>\n",
       "      <td>0.558360</td>\n",
       "    </tr>\n",
       "    <tr>\n",
       "      <th>1</th>\n",
       "      <td>Alabama</td>\n",
       "      <td>January</td>\n",
       "      <td>2042022</td>\n",
       "      <td>February</td>\n",
       "      <td></td>\n",
       "      <td></td>\n",
       "      <td>Completed Interview</td>\n",
       "      <td>2022000002</td>\n",
       "      <td>2022000002</td>\n",
       "      <td>YesGo to LL.02, PVTRESD1</td>\n",
       "      <td>...</td>\n",
       "      <td>No\\nNotes: ALCDAY4=888</td>\n",
       "      <td>No Drink-Occasions per day\\nNotes: ALCDAY4 = 888</td>\n",
       "      <td>No\\nNotes: ALCDAY4&lt;231 and DRNK3GE5=88; or ALC...</td>\n",
       "      <td>Did not drink\\nNotes: DROCDY4_=0 or AVEDRNK3=88</td>\n",
       "      <td>No\\nNotes: (SEXVAR=1 or BIRTHSEX=1) and _DRNKW...</td>\n",
       "      <td>No\\nNotes: AGE &gt;=65 and FLUSHOT7 = 2</td>\n",
       "      <td>No\\nNotes: AGE &gt;= 65 and PNEUVAC4 = 2</td>\n",
       "      <td>No\\nNotes: HIVTST7 = 2</td>\n",
       "      <td>175</td>\n",
       "      <td>0.552050</td>\n",
       "    </tr>\n",
       "    <tr>\n",
       "      <th>2</th>\n",
       "      <td>Alabama</td>\n",
       "      <td>January</td>\n",
       "      <td>2022022</td>\n",
       "      <td>February</td>\n",
       "      <td></td>\n",
       "      <td></td>\n",
       "      <td>Completed Interview</td>\n",
       "      <td>2022000003</td>\n",
       "      <td>2022000003</td>\n",
       "      <td>YesGo to LL.02, PVTRESD1</td>\n",
       "      <td>...</td>\n",
       "      <td>No\\nNotes: ALCDAY4=888</td>\n",
       "      <td>No Drink-Occasions per day\\nNotes: ALCDAY4 = 888</td>\n",
       "      <td>No\\nNotes: ALCDAY4&lt;231 and DRNK3GE5=88; or ALC...</td>\n",
       "      <td>Did not drink\\nNotes: DROCDY4_=0 or AVEDRNK3=88</td>\n",
       "      <td>No\\nNotes: (SEXVAR=1 or BIRTHSEX=1) and _DRNKW...</td>\n",
       "      <td>Age &lt; 65</td>\n",
       "      <td>Age &lt; 65\\nNotes: AGE &lt; 65</td>\n",
       "      <td>No\\nNotes: HIVTST7 = 2</td>\n",
       "      <td>171</td>\n",
       "      <td>0.539432</td>\n",
       "    </tr>\n",
       "    <tr>\n",
       "      <th>3</th>\n",
       "      <td>Alabama</td>\n",
       "      <td>January</td>\n",
       "      <td>2032022</td>\n",
       "      <td>February</td>\n",
       "      <td></td>\n",
       "      <td></td>\n",
       "      <td>Completed Interview</td>\n",
       "      <td>2022000004</td>\n",
       "      <td>2022000004</td>\n",
       "      <td>YesGo to LL.02, PVTRESD1</td>\n",
       "      <td>...</td>\n",
       "      <td>No\\nNotes: ALCDAY4=888</td>\n",
       "      <td>No Drink-Occasions per day\\nNotes: ALCDAY4 = 888</td>\n",
       "      <td>No\\nNotes: ALCDAY4&lt;231 and DRNK3GE5=88; or ALC...</td>\n",
       "      <td>Did not drink\\nNotes: DROCDY4_=0 or AVEDRNK3=88</td>\n",
       "      <td>No\\nNotes: (SEXVAR=1 or BIRTHSEX=1) and _DRNKW...</td>\n",
       "      <td>Dont know/Not Sure Or Refused/Missing</td>\n",
       "      <td>Dont know/Not Sure Or Refused/Missing\\nNotes:...</td>\n",
       "      <td>No\\nNotes: HIVTST7 = 2</td>\n",
       "      <td>162</td>\n",
       "      <td>0.511041</td>\n",
       "    </tr>\n",
       "    <tr>\n",
       "      <th>4</th>\n",
       "      <td>Alabama</td>\n",
       "      <td>January</td>\n",
       "      <td>2022022</td>\n",
       "      <td>February</td>\n",
       "      <td></td>\n",
       "      <td></td>\n",
       "      <td>Completed Interview</td>\n",
       "      <td>2022000005</td>\n",
       "      <td>2022000005</td>\n",
       "      <td>YesGo to LL.02, PVTRESD1</td>\n",
       "      <td>...</td>\n",
       "      <td>Yes\\nNotes: 1 &lt;= ALCDAY4 &lt;= 231</td>\n",
       "      <td>10.0</td>\n",
       "      <td>No\\nNotes: ALCDAY4&lt;231 and DRNK3GE5=88; or ALC...</td>\n",
       "      <td>140</td>\n",
       "      <td>No\\nNotes: (SEXVAR=1 or BIRTHSEX=1) and _DRNKW...</td>\n",
       "      <td>Age &lt; 65</td>\n",
       "      <td>Age &lt; 65\\nNotes: AGE &lt; 65</td>\n",
       "      <td>No\\nNotes: HIVTST7 = 2</td>\n",
       "      <td>176</td>\n",
       "      <td>0.555205</td>\n",
       "    </tr>\n",
       "    <tr>\n",
       "      <th>...</th>\n",
       "      <td>...</td>\n",
       "      <td>...</td>\n",
       "      <td>...</td>\n",
       "      <td>...</td>\n",
       "      <td>...</td>\n",
       "      <td>...</td>\n",
       "      <td>...</td>\n",
       "      <td>...</td>\n",
       "      <td>...</td>\n",
       "      <td>...</td>\n",
       "      <td>...</td>\n",
       "      <td>...</td>\n",
       "      <td>...</td>\n",
       "      <td>...</td>\n",
       "      <td>...</td>\n",
       "      <td>...</td>\n",
       "      <td>...</td>\n",
       "      <td>...</td>\n",
       "      <td>...</td>\n",
       "      <td>...</td>\n",
       "      <td>...</td>\n",
       "    </tr>\n",
       "    <tr>\n",
       "      <th>445127</th>\n",
       "      <td>Virgin Islands</td>\n",
       "      <td>November</td>\n",
       "      <td>12192022</td>\n",
       "      <td>December</td>\n",
       "      <td></td>\n",
       "      <td></td>\n",
       "      <td>Completed Interview</td>\n",
       "      <td>2022001527</td>\n",
       "      <td>2022001527</td>\n",
       "      <td>Missing\\nNotes: QSTVER &gt; = 20</td>\n",
       "      <td>...</td>\n",
       "      <td>Dont know/Not Sure\\nNotes: ALCDAY4=777</td>\n",
       "      <td>Dont know/Not Sure Or Refused/Missing\\nNotes:...</td>\n",
       "      <td>Dont know/Refused/Missing\\nNotes: DRNK3GE5=77...</td>\n",
       "      <td>Dont know/Not sure/Refused/Missing\\nNotes: AV...</td>\n",
       "      <td>Dont know/Refused/Missing\\nNotes: ALCDAY5=777...</td>\n",
       "      <td>Age &lt; 65</td>\n",
       "      <td>Age &lt; 65\\nNotes: AGE &lt; 65</td>\n",
       "      <td>Yes\\nNotes: HIVTST7 = 1</td>\n",
       "      <td>177</td>\n",
       "      <td>0.558360</td>\n",
       "    </tr>\n",
       "    <tr>\n",
       "      <th>445128</th>\n",
       "      <td>Virgin Islands</td>\n",
       "      <td>November</td>\n",
       "      <td>12212022</td>\n",
       "      <td>December</td>\n",
       "      <td></td>\n",
       "      <td></td>\n",
       "      <td>Completed Interview</td>\n",
       "      <td>2022001528</td>\n",
       "      <td>2022001528</td>\n",
       "      <td>Missing\\nNotes: QSTVER &gt; = 20</td>\n",
       "      <td>...</td>\n",
       "      <td>No\\nNotes: ALCDAY4=888</td>\n",
       "      <td>No Drink-Occasions per day\\nNotes: ALCDAY4 = 888</td>\n",
       "      <td>No\\nNotes: ALCDAY4&lt;231 and DRNK3GE5=88; or ALC...</td>\n",
       "      <td>Did not drink\\nNotes: DROCDY4_=0 or AVEDRNK3=88</td>\n",
       "      <td>No\\nNotes: (SEXVAR=1 or BIRTHSEX=1) and _DRNKW...</td>\n",
       "      <td>Age &lt; 65</td>\n",
       "      <td>Age &lt; 65\\nNotes: AGE &lt; 65</td>\n",
       "      <td>Yes\\nNotes: HIVTST7 = 1</td>\n",
       "      <td>160</td>\n",
       "      <td>0.504732</td>\n",
       "    </tr>\n",
       "    <tr>\n",
       "      <th>445129</th>\n",
       "      <td>Virgin Islands</td>\n",
       "      <td>November</td>\n",
       "      <td>11292022</td>\n",
       "      <td>November</td>\n",
       "      <td></td>\n",
       "      <td></td>\n",
       "      <td>Completed Interview</td>\n",
       "      <td>2022001529</td>\n",
       "      <td>2022001529</td>\n",
       "      <td>Missing\\nNotes: QSTVER &gt; = 20</td>\n",
       "      <td>...</td>\n",
       "      <td>Dont know/Not Sure\\nNotes: ALCDAY4=777</td>\n",
       "      <td>Dont know/Not Sure Or Refused/Missing\\nNotes:...</td>\n",
       "      <td>Dont know/Refused/Missing\\nNotes: DRNK3GE5=77...</td>\n",
       "      <td>Dont know/Not sure/Refused/Missing\\nNotes: AV...</td>\n",
       "      <td>Dont know/Refused/Missing\\nNotes: ALCDAY5=777...</td>\n",
       "      <td>No\\nNotes: AGE &gt;=65 and FLUSHOT7 = 2</td>\n",
       "      <td>No\\nNotes: AGE &gt;= 65 and PNEUVAC4 = 2</td>\n",
       "      <td>No\\nNotes: HIVTST7 = 2</td>\n",
       "      <td>169</td>\n",
       "      <td>0.533123</td>\n",
       "    </tr>\n",
       "    <tr>\n",
       "      <th>445130</th>\n",
       "      <td>Virgin Islands</td>\n",
       "      <td>November</td>\n",
       "      <td>12082022</td>\n",
       "      <td>December</td>\n",
       "      <td></td>\n",
       "      <td></td>\n",
       "      <td>Completed Interview</td>\n",
       "      <td>2022001530</td>\n",
       "      <td>2022001530</td>\n",
       "      <td>Missing\\nNotes: QSTVER &gt; = 20</td>\n",
       "      <td>...</td>\n",
       "      <td>No\\nNotes: ALCDAY4=888</td>\n",
       "      <td>No Drink-Occasions per day\\nNotes: ALCDAY4 = 888</td>\n",
       "      <td>No\\nNotes: ALCDAY4&lt;231 and DRNK3GE5=88; or ALC...</td>\n",
       "      <td>Did not drink\\nNotes: DROCDY4_=0 or AVEDRNK3=88</td>\n",
       "      <td>No\\nNotes: (SEXVAR=1 or BIRTHSEX=1) and _DRNKW...</td>\n",
       "      <td>Yes\\nNotes: AGE &gt;=65 and FLUSHOT7 = 1</td>\n",
       "      <td>Yes\\nNotes: AGE &gt;= 65 and PNEUVAC4 = 1</td>\n",
       "      <td>Yes\\nNotes: HIVTST7 = 1</td>\n",
       "      <td>165</td>\n",
       "      <td>0.520505</td>\n",
       "    </tr>\n",
       "    <tr>\n",
       "      <th>445131</th>\n",
       "      <td>Virgin Islands</td>\n",
       "      <td>November</td>\n",
       "      <td>12142022</td>\n",
       "      <td>December</td>\n",
       "      <td></td>\n",
       "      <td></td>\n",
       "      <td>Completed Interview</td>\n",
       "      <td>2022001531</td>\n",
       "      <td>2022001531</td>\n",
       "      <td>Missing\\nNotes: QSTVER &gt; = 20</td>\n",
       "      <td>...</td>\n",
       "      <td>Yes\\nNotes: 1 &lt;= ALCDAY4 &lt;= 231</td>\n",
       "      <td>50.0</td>\n",
       "      <td>Yes\\nNotes: ALCDAY4&lt;231 and 1&lt;=DRNK3GE5&lt;=76</td>\n",
       "      <td>Dont know/Not sure/Refused/Missing\\nNotes: AV...</td>\n",
       "      <td>Dont know/Refused/Missing\\nNotes: ALCDAY5=777...</td>\n",
       "      <td>Age &lt; 65</td>\n",
       "      <td>Age &lt; 65\\nNotes: AGE &lt; 65</td>\n",
       "      <td>No\\nNotes: HIVTST7 = 2</td>\n",
       "      <td>173</td>\n",
       "      <td>0.545741</td>\n",
       "    </tr>\n",
       "  </tbody>\n",
       "</table>\n",
       "<p>445132 rows × 328 columns</p>\n",
       "</div>"
      ],
      "text/plain": [
       "       State FIPS Code File Month  Interview Date Interview Month  \\\n",
       "0              Alabama    January         2032022        February   \n",
       "1              Alabama    January         2042022        February   \n",
       "2              Alabama    January         2022022        February   \n",
       "3              Alabama    January         2032022        February   \n",
       "4              Alabama    January         2022022        February   \n",
       "...                ...        ...             ...             ...   \n",
       "445127  Virgin Islands   November        12192022        December   \n",
       "445128  Virgin Islands   November        12212022        December   \n",
       "445129  Virgin Islands   November        11292022        November   \n",
       "445130  Virgin Islands   November        12082022        December   \n",
       "445131  Virgin Islands   November        12142022        December   \n",
       "\n",
       "       Interview Day Interview Year    Final Disposition  \\\n",
       "0                                    Completed Interview   \n",
       "1                                    Completed Interview   \n",
       "2                                    Completed Interview   \n",
       "3                                    Completed Interview   \n",
       "4                                    Completed Interview   \n",
       "...              ...            ...                  ...   \n",
       "445127                               Completed Interview   \n",
       "445128                               Completed Interview   \n",
       "445129                               Completed Interview   \n",
       "445130                               Completed Interview   \n",
       "445131                               Completed Interview   \n",
       "\n",
       "        Annual Sequence Number  Primary Sampling Unit  \\\n",
       "0                   2022000001             2022000001   \n",
       "1                   2022000002             2022000002   \n",
       "2                   2022000003             2022000003   \n",
       "3                   2022000004             2022000004   \n",
       "4                   2022000005             2022000005   \n",
       "...                        ...                    ...   \n",
       "445127              2022001527             2022001527   \n",
       "445128              2022001528             2022001528   \n",
       "445129              2022001529             2022001529   \n",
       "445130              2022001530             2022001530   \n",
       "445131              2022001531             2022001531   \n",
       "\n",
       "            Correct telephone number?  ...  \\\n",
       "0           YesGo to LL.02, PVTRESD1  ...   \n",
       "1           YesGo to LL.02, PVTRESD1  ...   \n",
       "2           YesGo to LL.02, PVTRESD1  ...   \n",
       "3           YesGo to LL.02, PVTRESD1  ...   \n",
       "4           YesGo to LL.02, PVTRESD1  ...   \n",
       "...                               ...  ...   \n",
       "445127  Missing\\nNotes: QSTVER > = 20  ...   \n",
       "445128  Missing\\nNotes: QSTVER > = 20  ...   \n",
       "445129  Missing\\nNotes: QSTVER > = 20  ...   \n",
       "445130  Missing\\nNotes: QSTVER > = 20  ...   \n",
       "445131  Missing\\nNotes: QSTVER > = 20  ...   \n",
       "\n",
       "       Drink any alcoholic beverages in past 30 days  \\\n",
       "0                             No\\nNotes: ALCDAY4=888   \n",
       "1                             No\\nNotes: ALCDAY4=888   \n",
       "2                             No\\nNotes: ALCDAY4=888   \n",
       "3                             No\\nNotes: ALCDAY4=888   \n",
       "4                    Yes\\nNotes: 1 <= ALCDAY4 <= 231   \n",
       "...                                              ...   \n",
       "445127       Dont know/Not Sure\\nNotes: ALCDAY4=777   \n",
       "445128                        No\\nNotes: ALCDAY4=888   \n",
       "445129       Dont know/Not Sure\\nNotes: ALCDAY4=777   \n",
       "445130                        No\\nNotes: ALCDAY4=888   \n",
       "445131               Yes\\nNotes: 1 <= ALCDAY4 <= 231   \n",
       "\n",
       "                         Computed drink-occasions-per-day  \\\n",
       "0        No Drink-Occasions per day\\nNotes: ALCDAY4 = 888   \n",
       "1        No Drink-Occasions per day\\nNotes: ALCDAY4 = 888   \n",
       "2        No Drink-Occasions per day\\nNotes: ALCDAY4 = 888   \n",
       "3        No Drink-Occasions per day\\nNotes: ALCDAY4 = 888   \n",
       "4                                                    10.0   \n",
       "...                                                   ...   \n",
       "445127  Dont know/Not Sure Or Refused/Missing\\nNotes:...   \n",
       "445128   No Drink-Occasions per day\\nNotes: ALCDAY4 = 888   \n",
       "445129  Dont know/Not Sure Or Refused/Missing\\nNotes:...   \n",
       "445130   No Drink-Occasions per day\\nNotes: ALCDAY4 = 888   \n",
       "445131                                               50.0   \n",
       "\n",
       "                       Binge Drinking Calculated Variable  \\\n",
       "0       No\\nNotes: ALCDAY4<231 and DRNK3GE5=88; or ALC...   \n",
       "1       No\\nNotes: ALCDAY4<231 and DRNK3GE5=88; or ALC...   \n",
       "2       No\\nNotes: ALCDAY4<231 and DRNK3GE5=88; or ALC...   \n",
       "3       No\\nNotes: ALCDAY4<231 and DRNK3GE5=88; or ALC...   \n",
       "4       No\\nNotes: ALCDAY4<231 and DRNK3GE5=88; or ALC...   \n",
       "...                                                   ...   \n",
       "445127  Dont know/Refused/Missing\\nNotes: DRNK3GE5=77...   \n",
       "445128  No\\nNotes: ALCDAY4<231 and DRNK3GE5=88; or ALC...   \n",
       "445129  Dont know/Refused/Missing\\nNotes: DRNK3GE5=77...   \n",
       "445130  No\\nNotes: ALCDAY4<231 and DRNK3GE5=88; or ALC...   \n",
       "445131        Yes\\nNotes: ALCDAY4<231 and 1<=DRNK3GE5<=76   \n",
       "\n",
       "       Computed number of drinks of alcohol beverages per week  \\\n",
       "0         Did not drink\\nNotes: DROCDY4_=0 or AVEDRNK3=88        \n",
       "1         Did not drink\\nNotes: DROCDY4_=0 or AVEDRNK3=88        \n",
       "2         Did not drink\\nNotes: DROCDY4_=0 or AVEDRNK3=88        \n",
       "3         Did not drink\\nNotes: DROCDY4_=0 or AVEDRNK3=88        \n",
       "4                                                     140        \n",
       "...                                                   ...        \n",
       "445127  Dont know/Not sure/Refused/Missing\\nNotes: AV...        \n",
       "445128    Did not drink\\nNotes: DROCDY4_=0 or AVEDRNK3=88        \n",
       "445129  Dont know/Not sure/Refused/Missing\\nNotes: AV...        \n",
       "445130    Did not drink\\nNotes: DROCDY4_=0 or AVEDRNK3=88        \n",
       "445131  Dont know/Not sure/Refused/Missing\\nNotes: AV...        \n",
       "\n",
       "           Heavy Alcohol Consumption  Calculated Variable  \\\n",
       "0       No\\nNotes: (SEXVAR=1 or BIRTHSEX=1) and _DRNKW...   \n",
       "1       No\\nNotes: (SEXVAR=1 or BIRTHSEX=1) and _DRNKW...   \n",
       "2       No\\nNotes: (SEXVAR=1 or BIRTHSEX=1) and _DRNKW...   \n",
       "3       No\\nNotes: (SEXVAR=1 or BIRTHSEX=1) and _DRNKW...   \n",
       "4       No\\nNotes: (SEXVAR=1 or BIRTHSEX=1) and _DRNKW...   \n",
       "...                                                   ...   \n",
       "445127  Dont know/Refused/Missing\\nNotes: ALCDAY5=777...   \n",
       "445128  No\\nNotes: (SEXVAR=1 or BIRTHSEX=1) and _DRNKW...   \n",
       "445129  Dont know/Refused/Missing\\nNotes: ALCDAY5=777...   \n",
       "445130  No\\nNotes: (SEXVAR=1 or BIRTHSEX=1) and _DRNKW...   \n",
       "445131  Dont know/Refused/Missing\\nNotes: ALCDAY5=777...   \n",
       "\n",
       "                  Flu Shot Calculated Variable  \\\n",
       "0        Yes\\nNotes: AGE >=65 and FLUSHOT7 = 1   \n",
       "1         No\\nNotes: AGE >=65 and FLUSHOT7 = 2   \n",
       "2                                     Age < 65   \n",
       "3       Dont know/Not Sure Or Refused/Missing   \n",
       "4                                     Age < 65   \n",
       "...                                        ...   \n",
       "445127                                Age < 65   \n",
       "445128                                Age < 65   \n",
       "445129    No\\nNotes: AGE >=65 and FLUSHOT7 = 2   \n",
       "445130   Yes\\nNotes: AGE >=65 and FLUSHOT7 = 1   \n",
       "445131                                Age < 65   \n",
       "\n",
       "                Pneumonia Vaccination Calculated Variable  \\\n",
       "0                   No\\nNotes: AGE >= 65 and PNEUVAC4 = 2   \n",
       "1                   No\\nNotes: AGE >= 65 and PNEUVAC4 = 2   \n",
       "2                               Age < 65\\nNotes: AGE < 65   \n",
       "3       Dont know/Not Sure Or Refused/Missing\\nNotes:...   \n",
       "4                               Age < 65\\nNotes: AGE < 65   \n",
       "...                                                   ...   \n",
       "445127                          Age < 65\\nNotes: AGE < 65   \n",
       "445128                          Age < 65\\nNotes: AGE < 65   \n",
       "445129              No\\nNotes: AGE >= 65 and PNEUVAC4 = 2   \n",
       "445130             Yes\\nNotes: AGE >= 65 and PNEUVAC4 = 1   \n",
       "445131                          Age < 65\\nNotes: AGE < 65   \n",
       "\n",
       "       Ever been tested for HIV calculated variable non_blank_count  \\\n",
       "0                            No\\nNotes: HIVTST7 = 2             177   \n",
       "1                            No\\nNotes: HIVTST7 = 2             175   \n",
       "2                            No\\nNotes: HIVTST7 = 2             171   \n",
       "3                            No\\nNotes: HIVTST7 = 2             162   \n",
       "4                            No\\nNotes: HIVTST7 = 2             176   \n",
       "...                                             ...             ...   \n",
       "445127                      Yes\\nNotes: HIVTST7 = 1             177   \n",
       "445128                      Yes\\nNotes: HIVTST7 = 1             160   \n",
       "445129                       No\\nNotes: HIVTST7 = 2             169   \n",
       "445130                      Yes\\nNotes: HIVTST7 = 1             165   \n",
       "445131                       No\\nNotes: HIVTST7 = 2             173   \n",
       "\n",
       "       non_blank_perc  \n",
       "0            0.558360  \n",
       "1            0.552050  \n",
       "2            0.539432  \n",
       "3            0.511041  \n",
       "4            0.555205  \n",
       "...               ...  \n",
       "445127       0.558360  \n",
       "445128       0.504732  \n",
       "445129       0.533123  \n",
       "445130       0.520505  \n",
       "445131       0.545741  \n",
       "\n",
       "[445132 rows x 328 columns]"
      ]
     },
     "execution_count": 14,
     "metadata": {},
     "output_type": "execute_result"
    }
   ],
   "source": [
    "df"
   ]
  }
 ],
 "metadata": {
  "kernelspec": {
   "display_name": ".venv",
   "language": "python",
   "name": "python3"
  },
  "language_info": {
   "codemirror_mode": {
    "name": "ipython",
    "version": 3
   },
   "file_extension": ".py",
   "mimetype": "text/x-python",
   "name": "python",
   "nbconvert_exporter": "python",
   "pygments_lexer": "ipython3",
   "version": "3.12.2"
  }
 },
 "nbformat": 4,
 "nbformat_minor": 2
}
