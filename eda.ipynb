{
 "cells": [
  {
   "cell_type": "markdown",
   "metadata": {},
   "source": [
    "Imports"
   ]
  },
  {
   "cell_type": "code",
   "execution_count": 1,
   "metadata": {},
   "outputs": [],
   "source": [
    "import pandas as pd\n",
    "from bs4 import BeautifulSoup\n",
    "import re\n",
    "import plotly.graph_objects as go\n",
    "import numpy as np"
   ]
  },
  {
   "cell_type": "markdown",
   "metadata": {},
   "source": [
    "Read Codebook"
   ]
  },
  {
   "cell_type": "code",
   "execution_count": 2,
   "metadata": {},
   "outputs": [],
   "source": [
    "with open(\"USCODE22_LLCP_102523.HTML\", \"r\", encoding='latin1') as file:\n",
    "    html_content = file.read()\n",
    "\n",
    "soup = BeautifulSoup(html_content, \"html.parser\")\n",
    "\n",
    "tables = soup.find_all(\"table\", class_=\"table\", attrs={\"summary\": \"Procedure Report: Report\"})\n",
    "\n",
    "data_element_details = {}\n",
    "for table in tables:\n",
    "    data_element_detail = {}\n",
    "    values = {}\n",
    "    for i, row in enumerate(table.find_all(\"tr\")):\n",
    "        cells = [cell.get_text(strip=True, separator='\\n').replace('\\xa0', ' ') for cell in row.find_all([\"td\"])]\n",
    "        if i == 0:\n",
    "            matches = re.findall(r'(.*?):\\s*([^\\n]*)', cells[0])\n",
    "            for match in matches:\n",
    "                data_element_detail[match[0]] = match[1]\n",
    "            if \"SAS Variable Name\" not in data_element_detail:\n",
    "                break\n",
    "        if i >= 2:\n",
    "            values[cells[0]] = {\"Value Label\": cells[1], \"Frequency\": cells[2], \"Percentage\": cells[3], \"Weighted Percentage\": cells[4]}\n",
    "    if \"SAS Variable Name\" in data_element_detail:\n",
    "        data_element_detail['Valid Values'] = values\n",
    "        data_element_details[data_element_detail[\"SAS Variable Name\"]] = data_element_detail"
   ]
  },
  {
   "cell_type": "markdown",
   "metadata": {},
   "source": [
    "Output as csv for manual labelling"
   ]
  },
  {
   "cell_type": "code",
   "execution_count": 8,
   "metadata": {},
   "outputs": [],
   "source": [
    "pd.DataFrame.from_dict(data_element_details, orient=\"index\").to_csv(\"fields.csv\")"
   ]
  },
  {
   "cell_type": "markdown",
   "metadata": {},
   "source": [
    "Read fixed width file data positions from html"
   ]
  },
  {
   "cell_type": "code",
   "execution_count": null,
   "metadata": {},
   "outputs": [],
   "source": [
    "url = 'CDC - BRFSS 2022 Combined Landline and Telephone Multiple Data.html'\n",
    "tables = pd.read_html(url)\n",
    "df_cols = tables[0]\n",
    "column_names = df_cols['Variable Name']\n",
    "start_positions = df_cols['Starting Column']\n",
    "widths = df_cols['Field Length']\n",
    "colspecs = list(zip(start_positions - 1, start_positions - 1 + widths))"
   ]
  },
  {
   "cell_type": "markdown",
   "metadata": {},
   "source": [
    "Load file using fixed width positions extracted above"
   ]
  },
  {
   "cell_type": "code",
   "execution_count": null,
   "metadata": {},
   "outputs": [],
   "source": [
    "df = pd.read_fwf('LLCP2022.ASC', colspecs=colspecs, header=None, names=column_names)\n",
    "df = df.fillna(value='BLANK')"
   ]
  },
  {
   "cell_type": "code",
   "execution_count": null,
   "metadata": {},
   "outputs": [],
   "source": [
    "df"
   ]
  },
  {
   "cell_type": "code",
   "execution_count": null,
   "metadata": {},
   "outputs": [],
   "source": [
    "def process_variable(var):\n",
    "    if isinstance(var, int):\n",
    "        result = str(var)\n",
    "    elif isinstance(var, float):\n",
    "        result = str(int(var))\n",
    "    else:\n",
    "        result = var\n",
    "    \n",
    "    return result"
   ]
  },
  {
   "cell_type": "code",
   "execution_count": null,
   "metadata": {},
   "outputs": [],
   "source": [
    "new_column_names = []\n",
    "for column_name in df.columns:\n",
    "    if column_name in data_element_details and 'Label' in data_element_details[column_name]:\n",
    "        new_column_names.append(data_element_details[column_name]['Label'])\n",
    "        values_map = {key: value['Value Label'] for key, value in data_element_details[column_name]['Valid Values'].items()}\n",
    "        df[column_name] = df[column_name].map(lambda x: values_map.get(process_variable(x), x))\n",
    "    else:\n",
    "        new_column_names.append(column_name)\n",
    "    \n",
    "df.columns = new_column_names"
   ]
  },
  {
   "cell_type": "code",
   "execution_count": null,
   "metadata": {},
   "outputs": [],
   "source": [
    "value_counts = df['Final Disposition'].value_counts()\n",
    "\n",
    "fig = go.Figure(data=[go.Bar(\n",
    "    x=value_counts.index,  # Unique values in the Series\n",
    "    y=value_counts.values  # Frequency counts\n",
    ")])\n",
    "\n",
    "fig.update_layout(\n",
    "    title='Histogram of Final Disposition',\n",
    "    xaxis_title='Final Disposition',\n",
    "    yaxis_title='Count'\n",
    ")\n",
    "\n",
    "fig.show()"
   ]
  },
  {
   "cell_type": "code",
   "execution_count": null,
   "metadata": {},
   "outputs": [],
   "source": [
    "df['Ever tested H.I.V.'].value_counts()"
   ]
  }
 ],
 "metadata": {
  "kernelspec": {
   "display_name": ".venv",
   "language": "python",
   "name": "python3"
  },
  "language_info": {
   "codemirror_mode": {
    "name": "ipython",
    "version": 3
   },
   "file_extension": ".py",
   "mimetype": "text/x-python",
   "name": "python",
   "nbconvert_exporter": "python",
   "pygments_lexer": "ipython3",
   "version": "3.12.2"
  }
 },
 "nbformat": 4,
 "nbformat_minor": 2
}
