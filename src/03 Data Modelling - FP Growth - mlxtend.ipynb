{
 "cells": [
  {
   "cell_type": "code",
   "execution_count": 1,
   "metadata": {},
   "outputs": [],
   "source": [
    "import pandas as pd\n",
    "from mlxtend.preprocessing import TransactionEncoder\n",
    "from mlxtend.frequent_patterns import fpgrowth, association_rules\n",
    "import pickle"
   ]
  },
  {
   "cell_type": "code",
   "execution_count": 2,
   "metadata": {},
   "outputs": [],
   "source": [
    "df = pd.read_pickle(\"../data/processed.pkl\")\n",
    "categorical_columns = df.select_dtypes(include=['category']).columns"
   ]
  },
  {
   "cell_type": "code",
   "execution_count": 3,
   "metadata": {},
   "outputs": [],
   "source": [
    "with open(\"../data/data_element_details.pkl\", \"rb\") as file:\n",
    "    data_element_details = pickle.load(file)"
   ]
  },
  {
   "cell_type": "markdown",
   "metadata": {},
   "source": [
    "## df_a - Mental Health & Chronic Conditions"
   ]
  },
  {
   "cell_type": "code",
   "execution_count": 4,
   "metadata": {},
   "outputs": [],
   "source": [
    "section_dict = {\n",
    "    \"Chronic Health Conditions\": [], \n",
    "    # \"Social Determinants and Health Equity\": []\n",
    "}\n",
    "\n",
    "keep_cols = []\n",
    "for value in data_element_details.values():\n",
    "    column_name = f\"{value['Label']} ({value['SAS Variable Name']})\"\n",
    "    if value['Section Name'] in section_dict.keys() and column_name in df.columns:\n",
    "        for key, valid_values in value['Valid Values'].items():\n",
    "            v = f\"{column_name}:{key} - {valid_values['Value Label']}\"\n",
    "            section_dict[value['Section Name']].append( frozenset({v}) )\n",
    "        keep_cols.append(column_name)\n",
    "df_a = df[keep_cols]"
   ]
  },
  {
   "cell_type": "code",
   "execution_count": 5,
   "metadata": {},
   "outputs": [],
   "source": [
    "# df = df[categorical_columns]\n",
    "transactions = []\n",
    "for _, row in df_a.iterrows():\n",
    "    transaction = [f\"{col}:{val}\" for col, val in zip(df_a.columns, row) if pd.notna(val) and not col.startswith(\"BLANK\")]\n",
    "    transactions.append(transaction)"
   ]
  },
  {
   "cell_type": "code",
   "execution_count": 6,
   "metadata": {},
   "outputs": [],
   "source": [
    "# Encode the transactions\n",
    "te = TransactionEncoder()\n",
    "te_ary = te.fit_transform(transactions)\n",
    "encoded_df = pd.DataFrame(te_ary, columns=te.columns_)"
   ]
  },
  {
   "cell_type": "code",
   "execution_count": 7,
   "metadata": {},
   "outputs": [],
   "source": [
    "# Apply FP-Growth algorithm\n",
    "frequent_itemsets = fpgrowth(encoded_df, min_support=0.005, use_colnames=True, max_len=5)"
   ]
  },
  {
   "cell_type": "code",
   "execution_count": 8,
   "metadata": {},
   "outputs": [],
   "source": [
    "# Generate association rules\n",
    "rules = association_rules(frequent_itemsets, metric=\"confidence\", min_threshold=0.01)"
   ]
  },
  {
   "cell_type": "code",
   "execution_count": 9,
   "metadata": {},
   "outputs": [
    {
     "data": {
      "text/plain": [
       "[frozenset({'Ever Diagnosed with Heart Attack (CVDINFR4):1 - Yes'}),\n",
       " frozenset({'Ever Diagnosed with Heart Attack (CVDINFR4):2 - No'}),\n",
       " frozenset({'Ever Diagnosed with Heart Attack (CVDINFR4):7 - Don\\x92t know/Not sure'}),\n",
       " frozenset({'Ever Diagnosed with Heart Attack (CVDINFR4):9 - Refused'}),\n",
       " frozenset({'Ever Diagnosed with Heart Attack (CVDINFR4):BLANK - Not asked or Missing'}),\n",
       " frozenset({'Ever Diagnosed with Angina or Coronary Heart Disease (CVDCRHD4):1 - Yes'}),\n",
       " frozenset({'Ever Diagnosed with Angina or Coronary Heart Disease (CVDCRHD4):2 - No'}),\n",
       " frozenset({'Ever Diagnosed with Angina or Coronary Heart Disease (CVDCRHD4):7 - Don\\x92t know/Not sure'}),\n",
       " frozenset({'Ever Diagnosed with Angina or Coronary Heart Disease (CVDCRHD4):9 - Refused'}),\n",
       " frozenset({'Ever Diagnosed with Angina or Coronary Heart Disease (CVDCRHD4):BLANK - Not asked or Missing'}),\n",
       " frozenset({'Ever Diagnosed with a Stroke (CVDSTRK3):1 - Yes'}),\n",
       " frozenset({'Ever Diagnosed with a Stroke (CVDSTRK3):2 - No'}),\n",
       " frozenset({'Ever Diagnosed with a Stroke (CVDSTRK3):7 - Don\\x92t know/Not sure'}),\n",
       " frozenset({'Ever Diagnosed with a Stroke (CVDSTRK3):9 - Refused'}),\n",
       " frozenset({'Ever Diagnosed with a Stroke (CVDSTRK3):BLANK - Not asked or Missing'}),\n",
       " frozenset({'Ever Told Had Asthma (ASTHMA3):1 - Yes'}),\n",
       " frozenset({'Ever Told Had Asthma (ASTHMA3):2 - No\\x97Go to Section 07.06 CHCSCNC1'}),\n",
       " frozenset({'Ever Told Had Asthma (ASTHMA3):7 - Don\\x92t know/Not Sure\\x97Go to Section 07.06 CHCSCNC1'}),\n",
       " frozenset({'Ever Told Had Asthma (ASTHMA3):9 - Refused\\x97Go to Section 07.06 CHCSCNC1'}),\n",
       " frozenset({'Ever Told Had Asthma (ASTHMA3):BLANK - Not asked or Missing'}),\n",
       " frozenset({'Still Have Asthma (ASTHNOW):1 - Yes'}),\n",
       " frozenset({'Still Have Asthma (ASTHNOW):2 - No'}),\n",
       " frozenset({'Still Have Asthma (ASTHNOW):7 - Don\\x92t know/Not Sure'}),\n",
       " frozenset({'Still Have Asthma (ASTHNOW):9 - Refused'}),\n",
       " frozenset({'Still Have Asthma (ASTHNOW):BLANK - Not asked or Missing'}),\n",
       " frozenset({'(Ever told) (you had) skin cancer that is not melanoma? (CHCSCNC1):1 - Yes'}),\n",
       " frozenset({'(Ever told) (you had) skin cancer that is not melanoma? (CHCSCNC1):2 - No'}),\n",
       " frozenset({'(Ever told) (you had) skin cancer that is not melanoma? (CHCSCNC1):7 - Don\\x92t know / Not sure'}),\n",
       " frozenset({'(Ever told) (you had) skin cancer that is not melanoma? (CHCSCNC1):9 - Refused'}),\n",
       " frozenset({'(Ever told) (you had) skin cancer that is not melanoma? (CHCSCNC1):BLANK - Not asked or Missing'}),\n",
       " frozenset({'(Ever told) (you had)  melanoma or any other types of cancer? (CHCOCNC1):1 - Yes'}),\n",
       " frozenset({'(Ever told) (you had)  melanoma or any other types of cancer? (CHCOCNC1):2 - No'}),\n",
       " frozenset({'(Ever told) (you had)  melanoma or any other types of cancer? (CHCOCNC1):7 - Don\\x92t know / Not sure'}),\n",
       " frozenset({'(Ever told) (you had)  melanoma or any other types of cancer? (CHCOCNC1):9 - Refused'}),\n",
       " frozenset({'(Ever told) (you had)  melanoma or any other types of cancer? (CHCOCNC1):BLANK - Not asked or Missing'}),\n",
       " frozenset({'Ever told you had C.O.P.D. emphysema or chronic bronchitis? (CHCCOPD3):1 - Yes'}),\n",
       " frozenset({'Ever told you had C.O.P.D. emphysema or chronic bronchitis? (CHCCOPD3):2 - No'}),\n",
       " frozenset({'Ever told you had C.O.P.D. emphysema or chronic bronchitis? (CHCCOPD3):7 - Don\\x92t know / Not sure'}),\n",
       " frozenset({'Ever told you had C.O.P.D. emphysema or chronic bronchitis? (CHCCOPD3):9 - Refused'}),\n",
       " frozenset({'Ever told you had C.O.P.D. emphysema or chronic bronchitis? (CHCCOPD3):BLANK - Not asked or Missing'}),\n",
       " frozenset({'(Ever told) you had a depressive disorder (ADDEPEV3):1 - Yes'}),\n",
       " frozenset({'(Ever told) you had a depressive disorder (ADDEPEV3):2 - No'}),\n",
       " frozenset({'(Ever told) you had a depressive disorder (ADDEPEV3):7 - Don\\x92t know/Not sure'}),\n",
       " frozenset({'(Ever told) you had a depressive disorder (ADDEPEV3):9 - Refused'}),\n",
       " frozenset({'(Ever told) you had a depressive disorder (ADDEPEV3):BLANK - Not asked or Missing'}),\n",
       " frozenset({'Ever told you have kidney disease? (CHCKDNY2):1 - Yes'}),\n",
       " frozenset({'Ever told you have kidney disease? (CHCKDNY2):2 - No'}),\n",
       " frozenset({'Ever told you have kidney disease? (CHCKDNY2):7 - Don\\x92t know / Not sure'}),\n",
       " frozenset({'Ever told you have kidney disease? (CHCKDNY2):9 - Refused'}),\n",
       " frozenset({'Ever told you have kidney disease? (CHCKDNY2):BLANK - Not asked or Missing'}),\n",
       " frozenset({'Told Had Arthritis (HAVARTH4):1 - Yes'}),\n",
       " frozenset({'Told Had Arthritis (HAVARTH4):2 - No'}),\n",
       " frozenset({'Told Had Arthritis (HAVARTH4):7 - Don\\x92t know/Not Sure'}),\n",
       " frozenset({'Told Had Arthritis (HAVARTH4):9 - Refused'}),\n",
       " frozenset({'Told Had Arthritis (HAVARTH4):BLANK - Not asked or Missing'}),\n",
       " frozenset({'(Ever told) you had diabetes (DIABETE4):1 - Yes'}),\n",
       " frozenset({'(Ever told) you had diabetes (DIABETE4):2 - Yes, but female told only during pregnancy\\x97Go to Section 08.01 AGE'}),\n",
       " frozenset({'(Ever told) you had diabetes (DIABETE4):3 - No\\x97Go to Section 08.01 AGE'}),\n",
       " frozenset({'(Ever told) you had diabetes (DIABETE4):4 - No, pre-diabetes or borderline diabetes\\x97Go to Section 08.01 AGE'}),\n",
       " frozenset({'(Ever told) you had diabetes (DIABETE4):7 - Don\\x92t know/Not Sure\\x97Go to Section 08.01 AGE'}),\n",
       " frozenset({'(Ever told) you had diabetes (DIABETE4):9 - Refused\\x97Go to Section 08.01 AGE'}),\n",
       " frozenset({'(Ever told) you had diabetes (DIABETE4):BLANK - Not asked or Missing'})]"
      ]
     },
     "execution_count": 9,
     "metadata": {},
     "output_type": "execute_result"
    }
   ],
   "source": [
    "chronic_health_conditions = section_dict[\"Chronic Health Conditions\"]\n",
    "chronic_health_conditions"
   ]
  },
  {
   "cell_type": "code",
   "execution_count": 10,
   "metadata": {},
   "outputs": [],
   "source": [
    "chronic_health_conditions_list = [\n",
    "    frozenset({'Ever Diagnosed with Heart Attack (CVDINFR4):1 - Yes'}),\n",
    "    frozenset({'Ever Diagnosed with Angina or Coronary Heart Disease (CVDCRHD4):1 - Yes'}),\n",
    "    frozenset({'Ever Diagnosed with a Stroke (CVDSTRK3):1 - Yes'}),\n",
    "    frozenset({'Ever Told Had Asthma (ASTHMA3):1 - Yes'}),\n",
    "    frozenset({'Still Have Asthma (ASTHNOW):1 - Yes'}),\n",
    "    frozenset({'(Ever told) (you had) skin cancer that is not melanoma? (CHCSCNC1):1 - Yes'}),\n",
    "    frozenset({'(Ever told) (you had)  melanoma or any other types of cancer? (CHCOCNC1):1 - Yes'}),\n",
    "    frozenset({'Ever told you had C.O.P.D. emphysema or chronic bronchitis? (CHCCOPD3):1 - Yes'}),\n",
    "    frozenset({'Ever told you have kidney disease? (CHCKDNY2):1 - Yes'}),\n",
    "    frozenset({'Told Had Arthritis (HAVARTH4):1 - Yes'}),\n",
    "    frozenset({'(Ever told) you had diabetes (DIABETE4):1 - Yes'}),\n",
    "]"
   ]
  },
  {
   "cell_type": "code",
   "execution_count": 11,
   "metadata": {},
   "outputs": [
    {
     "data": {
      "text/plain": [
       "2115"
      ]
     },
     "execution_count": 11,
     "metadata": {},
     "output_type": "execute_result"
    }
   ],
   "source": [
    "pd.set_option('max_colwidth', 400)\n",
    "filtered_rules = rules[\n",
    "    rules['antecedents'].apply(lambda x: any(item.issubset(x) for item in chronic_health_conditions_list))\n",
    "    &                 \n",
    "    (rules['consequents'] == frozenset({'(Ever told) you had a depressive disorder (ADDEPEV3):1 - Yes'}))\n",
    "    # &\n",
    "    # (rules['support'] > .1)\n",
    "].sort_values(\"confidence\", ascending=False)\n",
    "filtered_rules.to_csv('filtered_rules.csv')\n",
    "len(filtered_rules)"
   ]
  },
  {
   "cell_type": "markdown",
   "metadata": {},
   "source": [
    "## df_b - Health Care Access & Chronic Conditions"
   ]
  },
  {
   "cell_type": "code",
   "execution_count": 34,
   "metadata": {},
   "outputs": [],
   "source": [
    "section_dict = {\n",
    "    \"Chronic Health Conditions\": [], \n",
    "    \"Disability\": []\n",
    "}\n",
    "\n",
    "keep_cols = []\n",
    "for value in data_element_details.values():\n",
    "    column_name = f\"{value['Label']} ({value['SAS Variable Name']})\"\n",
    "    if value['Section Name'] in section_dict.keys() and column_name in df.columns:\n",
    "        for key, valid_values in value['Valid Values'].items():\n",
    "            v = f\"{column_name}:{key} - {valid_values['Value Label']}\"\n",
    "            section_dict[value['Section Name']].append( frozenset({v}) )\n",
    "        keep_cols.append(column_name)\n",
    "df_b = df[keep_cols]"
   ]
  },
  {
   "cell_type": "code",
   "execution_count": 35,
   "metadata": {},
   "outputs": [],
   "source": [
    "# df = df[categorical_columns]\n",
    "transactions = []\n",
    "for _, row in df_b.iterrows():\n",
    "    transaction = [f\"{col}:{val}\" for col, val in zip(df_b.columns, row) if pd.notna(val) and not col.startswith(\"BLANK\")]\n",
    "    transactions.append(transaction)"
   ]
  },
  {
   "cell_type": "code",
   "execution_count": 36,
   "metadata": {},
   "outputs": [],
   "source": [
    "# Encode the transactions\n",
    "te = TransactionEncoder()\n",
    "te_ary = te.fit_transform(transactions)\n",
    "encoded_df = pd.DataFrame(te_ary, columns=te.columns_)"
   ]
  },
  {
   "cell_type": "code",
   "execution_count": 37,
   "metadata": {},
   "outputs": [],
   "source": [
    "# Apply FP-Growth algorithm\n",
    "frequent_itemsets = fpgrowth(encoded_df, min_support=0.005, use_colnames=True, max_len=5)"
   ]
  },
  {
   "cell_type": "code",
   "execution_count": 38,
   "metadata": {},
   "outputs": [],
   "source": [
    "# Generate association rules\n",
    "rules = association_rules(frequent_itemsets, metric=\"confidence\", min_threshold=0.01)"
   ]
  },
  {
   "cell_type": "code",
   "execution_count": 39,
   "metadata": {},
   "outputs": [
    {
     "data": {
      "text/plain": [
       "[frozenset({'Are you deaf or do you have serious difficulty hearing? (DEAF):1 - Yes'}),\n",
       " frozenset({'Are you deaf or do you have serious difficulty hearing? (DEAF):2 - No'}),\n",
       " frozenset({'Are you deaf or do you have serious difficulty hearing? (DEAF):7 - Don\\x92t know/Not Sure'}),\n",
       " frozenset({'Are you deaf or do you have serious difficulty hearing? (DEAF):9 - Refused'}),\n",
       " frozenset({'Are you deaf or do you have serious difficulty hearing? (DEAF):BLANK - Not asked or Missing'}),\n",
       " frozenset({'Blind or Difficulty seeing (BLIND):1 - Yes'}),\n",
       " frozenset({'Blind or Difficulty seeing (BLIND):2 - No'}),\n",
       " frozenset({'Blind or Difficulty seeing (BLIND):7 - Don\\x92t know/Not Sure'}),\n",
       " frozenset({'Blind or Difficulty seeing (BLIND):9 - Refused'}),\n",
       " frozenset({'Blind or Difficulty seeing (BLIND):BLANK - Not asked or Missing'}),\n",
       " frozenset({'Difficulty Concentrating or Remembering (DECIDE):1 - Yes'}),\n",
       " frozenset({'Difficulty Concentrating or Remembering (DECIDE):2 - No'}),\n",
       " frozenset({'Difficulty Concentrating or Remembering (DECIDE):7 - Don\\x92t know/Not Sure'}),\n",
       " frozenset({'Difficulty Concentrating or Remembering (DECIDE):9 - Refused'}),\n",
       " frozenset({'Difficulty Concentrating or Remembering (DECIDE):BLANK - Not asked or Missing'}),\n",
       " frozenset({'Difficulty Walking or Climbing Stairs (DIFFWALK):1 - Yes'}),\n",
       " frozenset({'Difficulty Walking or Climbing Stairs (DIFFWALK):2 - No'}),\n",
       " frozenset({'Difficulty Walking or Climbing Stairs (DIFFWALK):7 - Don\\x92t know/Not Sure'}),\n",
       " frozenset({'Difficulty Walking or Climbing Stairs (DIFFWALK):9 - Refused'}),\n",
       " frozenset({'Difficulty Walking or Climbing Stairs (DIFFWALK):BLANK - Not asked or Missing'}),\n",
       " frozenset({'Difficulty Dressing or Bathing (DIFFDRES):1 - Yes'}),\n",
       " frozenset({'Difficulty Dressing or Bathing (DIFFDRES):2 - No'}),\n",
       " frozenset({'Difficulty Dressing or Bathing (DIFFDRES):7 - Don\\x92t know/Not Sure'}),\n",
       " frozenset({'Difficulty Dressing or Bathing (DIFFDRES):9 - Refused'}),\n",
       " frozenset({'Difficulty Dressing or Bathing (DIFFDRES):BLANK - Not asked or Missing'}),\n",
       " frozenset({'Difficulty Doing Errands Alone (DIFFALON):1 - Yes'}),\n",
       " frozenset({'Difficulty Doing Errands Alone (DIFFALON):2 - No'}),\n",
       " frozenset({'Difficulty Doing Errands Alone (DIFFALON):7 - Don\\x92t know/Not Sure'}),\n",
       " frozenset({'Difficulty Doing Errands Alone (DIFFALON):9 - Refused'}),\n",
       " frozenset({'Difficulty Doing Errands Alone (DIFFALON):BLANK - Not asked or Missing'})]"
      ]
     },
     "execution_count": 39,
     "metadata": {},
     "output_type": "execute_result"
    }
   ],
   "source": [
    "section_dict['Disability']"
   ]
  },
  {
   "cell_type": "code",
   "execution_count": 40,
   "metadata": {},
   "outputs": [],
   "source": [
    "disability_list = [\n",
    "    frozenset({'Are you deaf or do you have serious difficulty hearing? (DEAF):1 - Yes'}),\n",
    "    frozenset({'Blind or Difficulty seeing (BLIND):1 - Yes'}),\n",
    "    frozenset({'Difficulty Concentrating or Remembering (DECIDE):1 - Yes'}),\n",
    "    frozenset({'Difficulty Walking or Climbing Stairs (DIFFWALK):1 - Yes'}),\n",
    "    frozenset({'Difficulty Dressing or Bathing (DIFFDRES):1 - Yes'}),\n",
    "    frozenset({'Difficulty Doing Errands Alone (DIFFALON):1 - Yes'}),\n",
    "]"
   ]
  },
  {
   "cell_type": "code",
   "execution_count": 41,
   "metadata": {},
   "outputs": [
    {
     "data": {
      "text/plain": [
       "6684"
      ]
     },
     "execution_count": 41,
     "metadata": {},
     "output_type": "execute_result"
    }
   ],
   "source": [
    "pd.set_option('max_colwidth', 400)\n",
    "filtered_rules = rules[\n",
    "    rules['antecedents'].apply(lambda x: any(item.issubset(x) for item in disability_list))\n",
    "    &                 \n",
    "    (rules['consequents'] == frozenset({'(Ever told) you had a depressive disorder (ADDEPEV3):1 - Yes'}))\n",
    "    # &\n",
    "    # (rules['support'] > .1)\n",
    "].sort_values(\"confidence\", ascending=False)\n",
    "filtered_rules.to_csv('filtered_rules.csv')\n",
    "len(filtered_rules)"
   ]
  },
  {
   "cell_type": "markdown",
   "metadata": {},
   "source": [
    "## df_c - Sexual Orientation and Mental Health"
   ]
  },
  {
   "cell_type": "code",
   "execution_count": 65,
   "metadata": {},
   "outputs": [],
   "source": [
    "section_dict = {\n",
    "    \"Chronic Health Conditions\": [], \n",
    "    \"Sexual Orientation and Gender Identity (SOGI)\": []\n",
    "}\n",
    "\n",
    "keep_cols = []\n",
    "for value in data_element_details.values():\n",
    "    column_name = f\"{value['Label']} ({value['SAS Variable Name']})\"\n",
    "    if value['Section Name'] in section_dict.keys() and column_name in df.columns:\n",
    "        for key, valid_values in value['Valid Values'].items():\n",
    "            v = f\"{column_name}:{key} - {valid_values['Value Label']}\"\n",
    "            section_dict[value['Section Name']].append( frozenset({v}) )\n",
    "        keep_cols.append(column_name)\n",
    "df_c = df[keep_cols]"
   ]
  },
  {
   "cell_type": "code",
   "execution_count": 66,
   "metadata": {},
   "outputs": [],
   "source": [
    "# df = df[categorical_columns]\n",
    "transactions = []\n",
    "for _, row in df_c.iterrows():\n",
    "    transaction = [f\"{col}:{val}\" for col, val in zip(df_c.columns, row) if pd.notna(val) and not col.startswith(\"BLANK\")]\n",
    "    transactions.append(transaction)"
   ]
  },
  {
   "cell_type": "code",
   "execution_count": 67,
   "metadata": {},
   "outputs": [],
   "source": [
    "# Encode the transactions\n",
    "te = TransactionEncoder()\n",
    "te_ary = te.fit_transform(transactions)\n",
    "encoded_df = pd.DataFrame(te_ary, columns=te.columns_)"
   ]
  },
  {
   "cell_type": "code",
   "execution_count": 68,
   "metadata": {},
   "outputs": [],
   "source": [
    "# Apply FP-Growth algorithm\n",
    "frequent_itemsets = fpgrowth(encoded_df, min_support=0.0005, use_colnames=True, max_len=5)"
   ]
  },
  {
   "cell_type": "code",
   "execution_count": 69,
   "metadata": {},
   "outputs": [],
   "source": [
    "# Generate association rules\n",
    "rules = association_rules(frequent_itemsets, metric=\"confidence\", min_threshold=0.001)"
   ]
  },
  {
   "cell_type": "code",
   "execution_count": 70,
   "metadata": {},
   "outputs": [
    {
     "data": {
      "text/plain": [
       "[frozenset({'Sexual orientation (SOMALE):1 - Gay'}),\n",
       " frozenset({'Sexual orientation (SOMALE):2 - Straight, that is, not gay'}),\n",
       " frozenset({'Sexual orientation (SOMALE):3 - Bisexual'}),\n",
       " frozenset({'Sexual orientation (SOMALE):4 - Something else'}),\n",
       " frozenset({'Sexual orientation (SOMALE):7 - I don´t know the answer'}),\n",
       " frozenset({'Sexual orientation (SOMALE):9 - Refused'}),\n",
       " frozenset({'Sexual orientation (SOMALE):BLANK - Not asked or Missing'}),\n",
       " frozenset({'Sexual orientation (SOFEMALE):1 - Lesbian or Gay'}),\n",
       " frozenset({'Sexual orientation (SOFEMALE):2 - Straight, that is, not gay'}),\n",
       " frozenset({'Sexual orientation (SOFEMALE):3 - Bisexual'}),\n",
       " frozenset({'Sexual orientation (SOFEMALE):4 - Something else'}),\n",
       " frozenset({'Sexual orientation (SOFEMALE):7 - I don´t know the answer'}),\n",
       " frozenset({'Sexual orientation (SOFEMALE):9 - Refused'}),\n",
       " frozenset({'Sexual orientation (SOFEMALE):BLANK - Not asked or Missing'}),\n",
       " frozenset({'Do you consider yourself to be transgender? (TRNSGNDR):1 - Yes, Transgender, male-to-female'}),\n",
       " frozenset({'Do you consider yourself to be transgender? (TRNSGNDR):2 - Yes, Transgender, female to male'}),\n",
       " frozenset({'Do you consider yourself to be transgender? (TRNSGNDR):3 - Yes, Transgender, gender nonconforming'}),\n",
       " frozenset({'Do you consider yourself to be transgender? (TRNSGNDR):4 - No'}),\n",
       " frozenset({'Do you consider yourself to be transgender? (TRNSGNDR):7 - Don\\x92t know/Not Sure'}),\n",
       " frozenset({'Do you consider yourself to be transgender? (TRNSGNDR):9 - Refused'}),\n",
       " frozenset({'Do you consider yourself to be transgender? (TRNSGNDR):BLANK - Not asked or Missing'})]"
      ]
     },
     "execution_count": 70,
     "metadata": {},
     "output_type": "execute_result"
    }
   ],
   "source": [
    "section_dict['Sexual Orientation and Gender Identity (SOGI)']"
   ]
  },
  {
   "cell_type": "code",
   "execution_count": 71,
   "metadata": {},
   "outputs": [
    {
     "data": {
      "text/plain": [
       "17178"
      ]
     },
     "execution_count": 71,
     "metadata": {},
     "output_type": "execute_result"
    }
   ],
   "source": [
    "pd.set_option('max_colwidth', 400)\n",
    "filtered_rules = rules[\n",
    "    rules['antecedents'].apply(lambda x: any(item.issubset(x) for item in section_dict['Sexual Orientation and Gender Identity (SOGI)']))\n",
    "    &                 \n",
    "    (rules['consequents'] == frozenset({'(Ever told) you had a depressive disorder (ADDEPEV3):1 - Yes'}))\n",
    "    # &\n",
    "    # (rules['support'] > .1)\n",
    "].sort_values(\"confidence\", ascending=False)\n",
    "filtered_rules.to_csv('filtered_rules.csv')\n",
    "len(filtered_rules)"
   ]
  },
  {
   "cell_type": "code",
   "execution_count": 80,
   "metadata": {},
   "outputs": [
    {
     "data": {
      "text/html": [
       "<div>\n",
       "<style scoped>\n",
       "    .dataframe tbody tr th:only-of-type {\n",
       "        vertical-align: middle;\n",
       "    }\n",
       "\n",
       "    .dataframe tbody tr th {\n",
       "        vertical-align: top;\n",
       "    }\n",
       "\n",
       "    .dataframe thead th {\n",
       "        text-align: right;\n",
       "    }\n",
       "</style>\n",
       "<table border=\"1\" class=\"dataframe\">\n",
       "  <thead>\n",
       "    <tr style=\"text-align: right;\">\n",
       "      <th></th>\n",
       "      <th>antecedents</th>\n",
       "      <th>consequents</th>\n",
       "      <th>antecedent support</th>\n",
       "      <th>consequent support</th>\n",
       "      <th>support</th>\n",
       "      <th>confidence</th>\n",
       "      <th>lift</th>\n",
       "      <th>leverage</th>\n",
       "      <th>conviction</th>\n",
       "      <th>zhangs_metric</th>\n",
       "    </tr>\n",
       "  </thead>\n",
       "  <tbody>\n",
       "    <tr>\n",
       "      <th>4863372</th>\n",
       "      <td>(Do you consider yourself to be transgender? (TRNSGNDR):3 - Yes, Transgender, gender nonconforming)</td>\n",
       "      <td>((Ever told) you had a depressive disorder (ADDEPEV3):1 - Yes)</td>\n",
       "      <td>0.001323</td>\n",
       "      <td>0.205355</td>\n",
       "      <td>0.000782</td>\n",
       "      <td>0.590832</td>\n",
       "      <td>2.877127</td>\n",
       "      <td>0.00051</td>\n",
       "      <td>1.9421</td>\n",
       "      <td>0.653296</td>\n",
       "    </tr>\n",
       "  </tbody>\n",
       "</table>\n",
       "</div>"
      ],
      "text/plain": [
       "                                                                                                 antecedents  \\\n",
       "4863372  (Do you consider yourself to be transgender? (TRNSGNDR):3 - Yes, Transgender, gender nonconforming)   \n",
       "\n",
       "                                                            consequents  \\\n",
       "4863372  ((Ever told) you had a depressive disorder (ADDEPEV3):1 - Yes)   \n",
       "\n",
       "         antecedent support  consequent support   support  confidence  \\\n",
       "4863372            0.001323            0.205355  0.000782    0.590832   \n",
       "\n",
       "             lift  leverage  conviction  zhangs_metric  \n",
       "4863372  2.877127   0.00051      1.9421       0.653296  "
      ]
     },
     "execution_count": 80,
     "metadata": {},
     "output_type": "execute_result"
    }
   ],
   "source": [
    "pd.set_option('max_colwidth', 400)\n",
    "filtered_rules = rules[\n",
    "    (rules['antecedents'] == frozenset({'Do you consider yourself to be transgender? (TRNSGNDR):3 - Yes, Transgender, gender nonconforming'}))\n",
    "    &                 \n",
    "    (rules['consequents'] == frozenset({'(Ever told) you had a depressive disorder (ADDEPEV3):1 - Yes'}))\n",
    "    # &\n",
    "    # (rules['support'] > .1)\n",
    "].sort_values(\"confidence\", ascending=False)\n",
    "filtered_rules"
   ]
  }
 ],
 "metadata": {
  "kernelspec": {
   "display_name": ".venv",
   "language": "python",
   "name": "python3"
  },
  "language_info": {
   "codemirror_mode": {
    "name": "ipython",
    "version": 3
   },
   "file_extension": ".py",
   "mimetype": "text/x-python",
   "name": "python",
   "nbconvert_exporter": "python",
   "pygments_lexer": "ipython3",
   "version": "3.12.2"
  }
 },
 "nbformat": 4,
 "nbformat_minor": 2
}
