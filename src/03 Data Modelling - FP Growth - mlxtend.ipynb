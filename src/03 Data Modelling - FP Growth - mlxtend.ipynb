{
 "cells": [
  {
   "cell_type": "code",
   "execution_count": 1,
   "metadata": {},
   "outputs": [],
   "source": [
    "import pandas as pd\n",
    "from mlxtend.preprocessing import TransactionEncoder\n",
    "from mlxtend.frequent_patterns import fpgrowth, association_rules\n",
    "import pickle"
   ]
  },
  {
   "cell_type": "code",
   "execution_count": 2,
   "metadata": {},
   "outputs": [],
   "source": [
    "df = pd.read_pickle(\"../data/processed.pkl\")\n",
    "categorical_columns = df.select_dtypes(include=['category']).columns"
   ]
  },
  {
   "cell_type": "code",
   "execution_count": 3,
   "metadata": {},
   "outputs": [],
   "source": [
    "with open(\"../data/data_element_details.pkl\", \"rb\") as file:\n",
    "    data_element_details = pickle.load(file)"
   ]
  },
  {
   "cell_type": "markdown",
   "metadata": {},
   "source": [
    "## df_a - Mental Health & Chronic Conditions"
   ]
  },
  {
   "cell_type": "code",
   "execution_count": 4,
   "metadata": {},
   "outputs": [],
   "source": [
    "section_dict = {\n",
    "    \"Chronic Health Conditions\": [], \n",
    "    # \"Social Determinants and Health Equity\": []\n",
    "}\n",
    "\n",
    "keep_cols = []\n",
    "for value in data_element_details.values():\n",
    "    column_name = f\"{value['Label']} ({value['SAS Variable Name']})\"\n",
    "    if value['Section Name'] in section_dict.keys() and column_name in df.columns:\n",
    "        for key, valid_values in value['Valid Values'].items():\n",
    "            v = f\"{column_name}:{key} - {valid_values['Value Label']}\"\n",
    "            section_dict[value['Section Name']].append( frozenset({v}) )\n",
    "        keep_cols.append(column_name)\n",
    "df_a = df[keep_cols]"
   ]
  },
  {
   "cell_type": "code",
   "execution_count": 5,
   "metadata": {},
   "outputs": [],
   "source": [
    "# df = df[categorical_columns]\n",
    "transactions = []\n",
    "for _, row in df_a.iterrows():\n",
    "    transaction = [f\"{col}:{val}\" for col, val in zip(df_a.columns, row) if pd.notna(val) and not col.startswith(\"BLANK\")]\n",
    "    transactions.append(transaction)"
   ]
  },
  {
   "cell_type": "code",
   "execution_count": 6,
   "metadata": {},
   "outputs": [],
   "source": [
    "# Encode the transactions\n",
    "te = TransactionEncoder()\n",
    "te_ary = te.fit_transform(transactions)\n",
    "encoded_df = pd.DataFrame(te_ary, columns=te.columns_)"
   ]
  },
  {
   "cell_type": "code",
   "execution_count": 7,
   "metadata": {},
   "outputs": [],
   "source": [
    "# Apply FP-Growth algorithm\n",
    "frequent_itemsets = fpgrowth(encoded_df, min_support=0.005, use_colnames=True, max_len=5)"
   ]
  },
  {
   "cell_type": "code",
   "execution_count": 8,
   "metadata": {},
   "outputs": [],
   "source": [
    "# Generate association rules\n",
    "rules = association_rules(frequent_itemsets, metric=\"confidence\", min_threshold=0.01)"
   ]
  },
  {
   "cell_type": "code",
   "execution_count": 9,
   "metadata": {},
   "outputs": [
    {
     "data": {
      "text/plain": [
       "[frozenset({'Ever Diagnosed with Heart Attack (CVDINFR4):1 - Yes'}),\n",
       " frozenset({'Ever Diagnosed with Heart Attack (CVDINFR4):2 - No'}),\n",
       " frozenset({'Ever Diagnosed with Heart Attack (CVDINFR4):7 - Don\\x92t know/Not sure'}),\n",
       " frozenset({'Ever Diagnosed with Heart Attack (CVDINFR4):9 - Refused'}),\n",
       " frozenset({'Ever Diagnosed with Heart Attack (CVDINFR4):BLANK - Not asked or Missing'}),\n",
       " frozenset({'Ever Diagnosed with Angina or Coronary Heart Disease (CVDCRHD4):1 - Yes'}),\n",
       " frozenset({'Ever Diagnosed with Angina or Coronary Heart Disease (CVDCRHD4):2 - No'}),\n",
       " frozenset({'Ever Diagnosed with Angina or Coronary Heart Disease (CVDCRHD4):7 - Don\\x92t know/Not sure'}),\n",
       " frozenset({'Ever Diagnosed with Angina or Coronary Heart Disease (CVDCRHD4):9 - Refused'}),\n",
       " frozenset({'Ever Diagnosed with Angina or Coronary Heart Disease (CVDCRHD4):BLANK - Not asked or Missing'}),\n",
       " frozenset({'Ever Diagnosed with a Stroke (CVDSTRK3):1 - Yes'}),\n",
       " frozenset({'Ever Diagnosed with a Stroke (CVDSTRK3):2 - No'}),\n",
       " frozenset({'Ever Diagnosed with a Stroke (CVDSTRK3):7 - Don\\x92t know/Not sure'}),\n",
       " frozenset({'Ever Diagnosed with a Stroke (CVDSTRK3):9 - Refused'}),\n",
       " frozenset({'Ever Diagnosed with a Stroke (CVDSTRK3):BLANK - Not asked or Missing'}),\n",
       " frozenset({'Ever Told Had Asthma (ASTHMA3):1 - Yes'}),\n",
       " frozenset({'Ever Told Had Asthma (ASTHMA3):2 - No\\x97Go to Section 07.06 CHCSCNC1'}),\n",
       " frozenset({'Ever Told Had Asthma (ASTHMA3):7 - Don\\x92t know/Not Sure\\x97Go to Section 07.06 CHCSCNC1'}),\n",
       " frozenset({'Ever Told Had Asthma (ASTHMA3):9 - Refused\\x97Go to Section 07.06 CHCSCNC1'}),\n",
       " frozenset({'Ever Told Had Asthma (ASTHMA3):BLANK - Not asked or Missing'}),\n",
       " frozenset({'Still Have Asthma (ASTHNOW):1 - Yes'}),\n",
       " frozenset({'Still Have Asthma (ASTHNOW):2 - No'}),\n",
       " frozenset({'Still Have Asthma (ASTHNOW):7 - Don\\x92t know/Not Sure'}),\n",
       " frozenset({'Still Have Asthma (ASTHNOW):9 - Refused'}),\n",
       " frozenset({'Still Have Asthma (ASTHNOW):BLANK - Not asked or Missing'}),\n",
       " frozenset({'(Ever told) (you had) skin cancer that is not melanoma? (CHCSCNC1):1 - Yes'}),\n",
       " frozenset({'(Ever told) (you had) skin cancer that is not melanoma? (CHCSCNC1):2 - No'}),\n",
       " frozenset({'(Ever told) (you had) skin cancer that is not melanoma? (CHCSCNC1):7 - Don\\x92t know / Not sure'}),\n",
       " frozenset({'(Ever told) (you had) skin cancer that is not melanoma? (CHCSCNC1):9 - Refused'}),\n",
       " frozenset({'(Ever told) (you had) skin cancer that is not melanoma? (CHCSCNC1):BLANK - Not asked or Missing'}),\n",
       " frozenset({'(Ever told) (you had)  melanoma or any other types of cancer? (CHCOCNC1):1 - Yes'}),\n",
       " frozenset({'(Ever told) (you had)  melanoma or any other types of cancer? (CHCOCNC1):2 - No'}),\n",
       " frozenset({'(Ever told) (you had)  melanoma or any other types of cancer? (CHCOCNC1):7 - Don\\x92t know / Not sure'}),\n",
       " frozenset({'(Ever told) (you had)  melanoma or any other types of cancer? (CHCOCNC1):9 - Refused'}),\n",
       " frozenset({'(Ever told) (you had)  melanoma or any other types of cancer? (CHCOCNC1):BLANK - Not asked or Missing'}),\n",
       " frozenset({'Ever told you had C.O.P.D. emphysema or chronic bronchitis? (CHCCOPD3):1 - Yes'}),\n",
       " frozenset({'Ever told you had C.O.P.D. emphysema or chronic bronchitis? (CHCCOPD3):2 - No'}),\n",
       " frozenset({'Ever told you had C.O.P.D. emphysema or chronic bronchitis? (CHCCOPD3):7 - Don\\x92t know / Not sure'}),\n",
       " frozenset({'Ever told you had C.O.P.D. emphysema or chronic bronchitis? (CHCCOPD3):9 - Refused'}),\n",
       " frozenset({'Ever told you had C.O.P.D. emphysema or chronic bronchitis? (CHCCOPD3):BLANK - Not asked or Missing'}),\n",
       " frozenset({'(Ever told) you had a depressive disorder (ADDEPEV3):1 - Yes'}),\n",
       " frozenset({'(Ever told) you had a depressive disorder (ADDEPEV3):2 - No'}),\n",
       " frozenset({'(Ever told) you had a depressive disorder (ADDEPEV3):7 - Don\\x92t know/Not sure'}),\n",
       " frozenset({'(Ever told) you had a depressive disorder (ADDEPEV3):9 - Refused'}),\n",
       " frozenset({'(Ever told) you had a depressive disorder (ADDEPEV3):BLANK - Not asked or Missing'}),\n",
       " frozenset({'Ever told you have kidney disease? (CHCKDNY2):1 - Yes'}),\n",
       " frozenset({'Ever told you have kidney disease? (CHCKDNY2):2 - No'}),\n",
       " frozenset({'Ever told you have kidney disease? (CHCKDNY2):7 - Don\\x92t know / Not sure'}),\n",
       " frozenset({'Ever told you have kidney disease? (CHCKDNY2):9 - Refused'}),\n",
       " frozenset({'Ever told you have kidney disease? (CHCKDNY2):BLANK - Not asked or Missing'}),\n",
       " frozenset({'Told Had Arthritis (HAVARTH4):1 - Yes'}),\n",
       " frozenset({'Told Had Arthritis (HAVARTH4):2 - No'}),\n",
       " frozenset({'Told Had Arthritis (HAVARTH4):7 - Don\\x92t know/Not Sure'}),\n",
       " frozenset({'Told Had Arthritis (HAVARTH4):9 - Refused'}),\n",
       " frozenset({'Told Had Arthritis (HAVARTH4):BLANK - Not asked or Missing'}),\n",
       " frozenset({'(Ever told) you had diabetes (DIABETE4):1 - Yes'}),\n",
       " frozenset({'(Ever told) you had diabetes (DIABETE4):2 - Yes, but female told only during pregnancy\\x97Go to Section 08.01 AGE'}),\n",
       " frozenset({'(Ever told) you had diabetes (DIABETE4):3 - No\\x97Go to Section 08.01 AGE'}),\n",
       " frozenset({'(Ever told) you had diabetes (DIABETE4):4 - No, pre-diabetes or borderline diabetes\\x97Go to Section 08.01 AGE'}),\n",
       " frozenset({'(Ever told) you had diabetes (DIABETE4):7 - Don\\x92t know/Not Sure\\x97Go to Section 08.01 AGE'}),\n",
       " frozenset({'(Ever told) you had diabetes (DIABETE4):9 - Refused\\x97Go to Section 08.01 AGE'}),\n",
       " frozenset({'(Ever told) you had diabetes (DIABETE4):BLANK - Not asked or Missing'})]"
      ]
     },
     "execution_count": 9,
     "metadata": {},
     "output_type": "execute_result"
    }
   ],
   "source": [
    "chronic_health_conditions = section_dict[\"Chronic Health Conditions\"]\n",
    "chronic_health_conditions"
   ]
  },
  {
   "cell_type": "code",
   "execution_count": 10,
   "metadata": {},
   "outputs": [],
   "source": [
    "chronic_health_conditions_list = [\n",
    "    frozenset({'Ever Diagnosed with Heart Attack (CVDINFR4):1 - Yes'}),\n",
    "    frozenset({'Ever Diagnosed with Angina or Coronary Heart Disease (CVDCRHD4):1 - Yes'}),\n",
    "    frozenset({'Ever Diagnosed with a Stroke (CVDSTRK3):1 - Yes'}),\n",
    "    frozenset({'Ever Told Had Asthma (ASTHMA3):1 - Yes'}),\n",
    "    frozenset({'Still Have Asthma (ASTHNOW):1 - Yes'}),\n",
    "    frozenset({'(Ever told) (you had) skin cancer that is not melanoma? (CHCSCNC1):1 - Yes'}),\n",
    "    frozenset({'(Ever told) (you had)  melanoma or any other types of cancer? (CHCOCNC1):1 - Yes'}),\n",
    "    frozenset({'Ever told you had C.O.P.D. emphysema or chronic bronchitis? (CHCCOPD3):1 - Yes'}),\n",
    "    frozenset({'Ever told you have kidney disease? (CHCKDNY2):1 - Yes'}),\n",
    "    frozenset({'Told Had Arthritis (HAVARTH4):1 - Yes'}),\n",
    "    frozenset({'(Ever told) you had diabetes (DIABETE4):1 - Yes'}),\n",
    "]"
   ]
  },
  {
   "cell_type": "code",
   "execution_count": 11,
   "metadata": {},
   "outputs": [
    {
     "data": {
      "text/plain": [
       "2115"
      ]
     },
     "execution_count": 11,
     "metadata": {},
     "output_type": "execute_result"
    }
   ],
   "source": [
    "pd.set_option('max_colwidth', 400)\n",
    "filtered_rules = rules[\n",
    "    rules['antecedents'].apply(lambda x: any(item.issubset(x) for item in chronic_health_conditions_list))\n",
    "    &                 \n",
    "    (rules['consequents'] == frozenset({'(Ever told) you had a depressive disorder (ADDEPEV3):1 - Yes'}))\n",
    "    # &\n",
    "    # (rules['support'] > .1)\n",
    "].sort_values(\"confidence\", ascending=False)\n",
    "filtered_rules.to_csv('filtered_rules.csv')\n",
    "len(filtered_rules)"
   ]
  }
 ],
 "metadata": {
  "kernelspec": {
   "display_name": ".venv",
   "language": "python",
   "name": "python3"
  },
  "language_info": {
   "codemirror_mode": {
    "name": "ipython",
    "version": 3
   },
   "file_extension": ".py",
   "mimetype": "text/x-python",
   "name": "python",
   "nbconvert_exporter": "python",
   "pygments_lexer": "ipython3",
   "version": "3.12.2"
  }
 },
 "nbformat": 4,
 "nbformat_minor": 2
}
